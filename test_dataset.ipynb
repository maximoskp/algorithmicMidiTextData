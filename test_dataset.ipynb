{
 "cells": [
  {
   "cell_type": "code",
   "execution_count": 5,
   "id": "7de8dd6a-7f3f-4dad-a398-e04d9efdbc6c",
   "metadata": {},
   "outputs": [],
   "source": [
    "from MidiTextDataset import MidiTextDataset\n",
    "from torch.utils.data import DataLoader "
   ]
  },
  {
   "cell_type": "code",
   "execution_count": 6,
   "id": "36e852a7-d35d-4e1c-a5b8-b794c29babda",
   "metadata": {},
   "outputs": [],
   "source": [
    "dataset = MidiTextDataset('data/texts_df.csv')"
   ]
  },
  {
   "cell_type": "code",
   "execution_count": 8,
   "id": "de37b1f3-8692-4e53-af92-f74007f81433",
   "metadata": {},
   "outputs": [],
   "source": [
    "train_loader = DataLoader(dataset, batch_size = 8, shuffle=True)"
   ]
  },
  {
   "cell_type": "code",
   "execution_count": 9,
   "id": "e3bea36c-c3e4-48ac-bab5-3a058830aa7a",
   "metadata": {},
   "outputs": [],
   "source": [
    "midis, texts = next(iter(train_loader))"
   ]
  },
  {
   "cell_type": "code",
   "execution_count": 10,
   "id": "a127d654-ddd3-47fa-b08c-4fb7088726f0",
   "metadata": {},
   "outputs": [
    {
     "name": "stdout",
     "output_type": "stream",
     "text": [
      "('<START> Bar_None Position_15 Pitch_49 Velocity_99 Duration_2.1.8 Bar_None Position_0 Pitch_43 Velocity_99 Duration_3.7.8 Position_31 Pitch_43 Velocity_99 Duration_4.0.4 Bar_None Bar_None Position_0 Pitch_45 Velocity_99 Duration_1.0.8 Position_8 Pitch_45 Velocity_99 Duration_1.0.8 Position_15 Pitch_49 Velocity_99 Duration_2.0.8 Position_31 Pitch_51 Velocity_99 Duration_2.1.8 Bar_None Position_16 Pitch_49 Velocity_99 Duration_2.0.8 Bar_None Position_0 Pitch_49 Velocity_99 Duration_1.0.8 Position_7 Pitch_51 Velocity_99 Duration_0.4.8 Position_11 Pitch_46 Velocity_99 Duration_0.4.8 Position_15 Pitch_43 Velocity_99 Duration_4.0.4 Bar_None Position_16 Pitch_45 Velocity_99 Duration_3.7.8 Bar_None Position_15 Pitch_46 Velocity_99 Duration_4.0.4 Bar_None Position_15 Pitch_46 Velocity_99 Duration_2.0.8 Position_31 Pitch_48 Velocity_99 Duration_2.1.8 Bar_None Position_16 Pitch_46 Velocity_99 Duration_2.0.8 Bar_None Position_0 Pitch_51 Velocity_99 Duration_2.0.8 Position_15 Pitch_49 Velocity_99 Duration_0.4.8 Position_19 Pitch_49 Velocity_99 Duration_1.0.8 Position_27 Pitch_49 Velocity_99 Duration_0.5.8 Bar_None Position_0 Pitch_53 Velocity_99 Duration_3.7.8 Position_31 Pitch_58 Velocity_99 Duration_1.0.8 Bar_None Position_7 Pitch_58 Velocity_99 Duration_0.4.8 Position_11 Pitch_58 Velocity_99 Duration_0.4.8 Position_15 Pitch_46 Velocity_99 Duration_2.1.8 Bar_None Position_0 Pitch_48 Velocity_99 Duration_2.0.8 Position_16 Pitch_48 Velocity_99 Duration_2.0.8 Position_31 Pitch_48 Velocity_99 Duration_1.0.8 Bar_None Position_7 Pitch_48 Velocity_99 Duration_1.1.8 Position_16 Pitch_49 Velocity_99 Duration_1.0.8 Position_24 Pitch_45 Velocity_99 Duration_1.0.8 Bar_None Position_0 Pitch_43 Velocity_99 Duration_1.0.8 Position_7 Pitch_45 Velocity_99 Duration_1.0.8 Position_15 Pitch_46 Velocity_99 Duration_4.0.4 <EOS>', '<START> Bar_None Position_15 Pitch_49 Velocity_99 Duration_2.1.8 Bar_None Position_0 Pitch_49 Velocity_99 Duration_3.7.8 Position_31 Pitch_47 Velocity_99 Duration_2.0.8 Bar_None Position_15 Pitch_45 Velocity_99 Duration_4.0.4 Bar_None Position_15 Pitch_50 Velocity_99 Duration_2.0.8 Position_31 Pitch_47 Velocity_99 Duration_2.1.8 Bar_None Position_16 Pitch_50 Velocity_99 Duration_0.4.8 Position_20 Pitch_56 Velocity_99 Duration_0.4.8 Position_24 Pitch_50 Velocity_99 Duration_1.0.8 Bar_None Position_0 Pitch_49 Velocity_99 Duration_4.0.4 Bar_None Position_0 Pitch_45 Velocity_99 Duration_3.7.8 Position_31 Pitch_49 Velocity_99 Duration_2.0.8 Bar_None Position_15 Pitch_50 Velocity_99 Duration_2.1.8 Bar_None Position_0 Pitch_50 Velocity_99 Duration_3.7.8 Position_31 Pitch_49 Velocity_99 Duration_4.0.4 Bar_None Bar_None Position_0 Pitch_57 Velocity_99 Duration_4.0.4 Bar_None Position_0 Pitch_54 Velocity_99 Duration_3.7.8 Position_31 Pitch_47 Velocity_99 Duration_4.0.4 Bar_None Bar_None Position_0 Pitch_47 Velocity_99 Duration_3.7.8 Position_31 Pitch_47 Velocity_99 Duration_2.1.8 Bar_None Position_16 Pitch_50 Velocity_99 Duration_0.4.8 Position_20 Pitch_54 Velocity_99 Duration_1.0.8 Position_28 Pitch_47 Velocity_99 Duration_0.4.8 Bar_None Position_0 Pitch_45 Velocity_99 Duration_0.4.8 Position_4 Pitch_45 Velocity_99 Duration_0.4.8 Position_7 Pitch_49 Velocity_99 Duration_0.4.8 Position_11 Pitch_52 Velocity_99 Duration_0.4.8 Position_15 Pitch_54 Velocity_99 Duration_4.0.4 <EOS>', '<START> Bar_None Position_15 Pitch_60 Velocity_99 Duration_1.0.8 Position_23 Pitch_58 Velocity_99 Duration_1.1.8 Bar_None Position_0 Pitch_60 Velocity_99 Duration_1.0.8 Position_8 Pitch_63 Velocity_99 Duration_0.4.8 Position_12 Pitch_69 Velocity_99 Duration_0.4.8 Position_16 Pitch_69 Velocity_99 Duration_1.0.8 Position_23 Pitch_69 Velocity_99 Duration_0.4.8 Position_27 Pitch_63 Velocity_99 Duration_0.4.8 Position_31 Pitch_65 Velocity_99 Duration_0.4.8 Bar_None Position_3 Pitch_65 Velocity_99 Duration_1.0.8 Position_11 Pitch_69 Velocity_99 Duration_0.4.8 Position_15 Pitch_70 Velocity_99 Duration_0.5.8 Position_20 Pitch_65 Velocity_99 Duration_0.4.8 Position_24 Pitch_63 Velocity_99 Duration_1.0.8 Bar_None Position_0 Pitch_57 Velocity_99 Duration_3.7.8 Position_31 Pitch_60 Velocity_99 Duration_1.1.8 Bar_None Position_8 Pitch_63 Velocity_99 Duration_0.4.8 Position_12 Pitch_67 Velocity_99 Duration_0.4.8 Position_16 Pitch_72 Velocity_99 Duration_2.0.8 Bar_None Position_0 Pitch_69 Velocity_99 Duration_1.0.8 Position_7 Pitch_67 Velocity_99 Duration_1.0.8 Position_15 Pitch_73 Velocity_99 Duration_1.0.8 Position_23 Pitch_69 Velocity_99 Duration_0.4.8 Position_27 Pitch_69 Velocity_99 Duration_1.1.8 Bar_None Position_4 Pitch_69 Velocity_99 Duration_1.0.8 Position_12 Pitch_73 Velocity_99 Duration_0.4.8 Position_16 Pitch_70 Velocity_99 Duration_0.4.8 Position_20 Pitch_63 Velocity_99 Duration_0.4.8 Position_24 Pitch_61 Velocity_99 Duration_1.0.8 Position_31 Pitch_63 Velocity_99 Duration_4.0.4 Bar_None Bar_None Position_0 Pitch_61 Velocity_99 Duration_1.0.8 Position_8 Pitch_60 Velocity_99 Duration_1.0.8 Position_15 Pitch_58 Velocity_99 Duration_0.4.8 Position_19 Pitch_53 Velocity_99 Duration_1.0.8 Position_27 Pitch_61 Velocity_99 Duration_0.4.8 Position_31 Pitch_63 Velocity_99 Duration_4.0.4 Bar_None Bar_None Position_0 Pitch_61 Velocity_99 Duration_1.0.8 Position_7 Pitch_61 Velocity_99 Duration_0.4.8 Position_11 Pitch_58 Velocity_99 Duration_0.4.8 Position_15 Pitch_58 Velocity_99 Duration_1.0.8 Position_23 Pitch_55 Velocity_99 Duration_1.1.8 Bar_None Position_0 Pitch_51 Velocity_99 Duration_1.0.8 Position_8 Pitch_48 Velocity_99 Duration_0.4.8 Position_12 Pitch_51 Velocity_99 Duration_0.4.8 Position_16 Pitch_58 Velocity_99 Duration_3.7.8 Bar_None Position_15 Pitch_61 Velocity_99 Duration_1.1.8 Position_24 Pitch_58 Velocity_99 Duration_1.0.8 Bar_None Position_0 Pitch_61 Velocity_99 Duration_1.0.8 Position_8 Pitch_57 Velocity_99 Duration_0.4.8 Position_12 Pitch_55 Velocity_99 Duration_0.4.8 Position_16 Pitch_60 Velocity_99 Duration_1.0.8 Position_23 Pitch_57 Velocity_99 Duration_1.0.8 Position_31 Pitch_60 Velocity_99 Duration_1.0.8 Bar_None Position_7 Pitch_57 Velocity_99 Duration_0.5.8 Position_12 Pitch_57 Velocity_99 Duration_0.4.8 Position_16 Pitch_53 Velocity_99 Duration_0.4.8 Position_20 Pitch_49 Velocity_99 Duration_0.4.8 Position_24 Pitch_51 Velocity_99 Duration_1.0.8 Bar_None Position_0 Pitch_53 Velocity_99 Duration_0.4.8 Position_4 Pitch_57 Velocity_99 Duration_0.4.8 Position_7 Pitch_60 Velocity_99 Duration_0.4.8 Position_11 Pitch_57 Velocity_99 Duration_0.4.8 Position_15 Pitch_58 Velocity_99 Duration_4.0.4 <EOS>', '<START> Bar_None Position_15 Pitch_49 Velocity_99 Duration_0.4.8 Position_19 Pitch_46 Velocity_99 Duration_1.1.8 Position_28 Pitch_46 Velocity_99 Duration_0.4.8 Bar_None Position_0 Pitch_46 Velocity_99 Duration_3.7.8 Position_31 Pitch_51 Velocity_99 Duration_1.0.8 Bar_None Position_7 Pitch_48 Velocity_99 Duration_1.0.8 Position_15 Pitch_48 Velocity_99 Duration_0.5.8 Position_20 Pitch_51 Velocity_99 Duration_1.0.8 Position_28 Pitch_56 Velocity_99 Duration_0.4.8 Bar_None Position_0 Pitch_54 Velocity_99 Duration_0.4.8 Position_4 Pitch_54 Velocity_99 Duration_0.4.8 Position_8 Pitch_53 Velocity_99 Duration_0.4.8 Position_12 Pitch_48 Velocity_99 Duration_0.4.8 Position_15 Pitch_46 Velocity_99 Duration_4.0.4 <EOS>', '<START> Bar_None Position_15 Pitch_49 Velocity_99 Duration_2.1.8 Bar_None Position_0 Pitch_52 Velocity_99 Duration_1.0.8 Position_8 Pitch_52 Velocity_99 Duration_1.0.8 Position_16 Pitch_54 Velocity_99 Duration_3.7.8 Bar_None Position_15 Pitch_52 Velocity_99 Duration_4.0.4 Bar_None Position_15 Pitch_54 Velocity_99 Duration_0.4.8 Position_19 Pitch_54 Velocity_99 Duration_0.4.8 Position_23 Pitch_50 Velocity_99 Duration_1.0.8 Position_31 Pitch_47 Velocity_99 Duration_4.0.4 Bar_None Bar_None Position_0 Pitch_49 Velocity_99 Duration_1.0.8 Position_7 Pitch_49 Velocity_99 Duration_1.0.8 Position_15 Pitch_52 Velocity_99 Duration_4.0.4 Bar_None Position_16 Pitch_49 Velocity_99 Duration_2.0.8 Position_31 Pitch_47 Velocity_99 Duration_2.0.8 Bar_None Position_15 Pitch_45 Velocity_99 Duration_4.0.4 <EOS>', '<START> Bar_None Position_15 Pitch_62 Velocity_99 Duration_1.0.8 Position_23 Pitch_66 Velocity_99 Duration_0.5.8 Position_28 Pitch_66 Velocity_99 Duration_1.0.8 Bar_None Position_4 Pitch_66 Velocity_99 Duration_0.4.8 Position_8 Pitch_71 Velocity_99 Duration_0.4.8 Position_12 Pitch_66 Velocity_99 Duration_0.4.8 Position_16 Pitch_69 Velocity_99 Duration_0.4.8 Position_20 Pitch_64 Velocity_99 Duration_0.4.8 Position_23 Pitch_64 Velocity_99 Duration_1.0.8 Position_31 Pitch_62 Velocity_99 Duration_4.0.4 Bar_None Bar_None Position_0 Pitch_64 Velocity_99 Duration_2.0.8 Position_15 Pitch_69 Velocity_99 Duration_4.0.4 <EOS>', '<START> Bar_None Position_15 Pitch_57 Velocity_99 Duration_0.4.8 Position_19 Pitch_54 Velocity_99 Duration_1.1.8 Position_28 Pitch_54 Velocity_99 Duration_0.4.8 Bar_None Position_0 Pitch_57 Velocity_99 Duration_3.7.8 Position_31 Pitch_59 Velocity_99 Duration_2.0.8 Bar_None Position_15 Pitch_57 Velocity_99 Duration_2.1.8 Bar_None Position_0 Pitch_59 Velocity_99 Duration_2.0.8 Position_15 Pitch_62 Velocity_99 Duration_4.0.4 Bar_None Position_16 Pitch_57 Velocity_99 Duration_2.0.8 Bar_None Position_0 Pitch_54 Velocity_99 Duration_4.0.4 Bar_None Position_0 Pitch_50 Velocity_99 Duration_2.0.8 Position_16 Pitch_52 Velocity_99 Duration_1.0.8 Position_24 Pitch_55 Velocity_99 Duration_0.4.8 Position_27 Pitch_52 Velocity_99 Duration_1.0.8 Bar_None Position_3 Pitch_49 Velocity_99 Duration_1.0.8 Position_11 Pitch_55 Velocity_99 Duration_0.4.8 Position_15 Pitch_54 Velocity_99 Duration_4.0.4 <EOS>', '<START> Bar_None Position_15 Pitch_44 Velocity_99 Duration_4.0.4 Bar_None Position_16 Pitch_44 Velocity_99 Duration_2.0.8 Position_31 Pitch_45 Velocity_99 Duration_4.0.4 Bar_None Bar_None Position_0 Pitch_45 Velocity_99 Duration_2.0.8 Position_15 Pitch_45 Velocity_99 Duration_4.0.4 <EOS>')\n",
      "('<START> A A sharp dorian excerpt, with a large length of 16 bars, with medium speed, in the low range of notes. <EOS>', '<START> A F sharp natural_minor piece, with a large length of 16 bars, with slow speed, in the low range of pitches. <EOS>', '<START> A large excerpt that is 16 bars long, in the key of A sharp dorian, within the full range of notes, with fast speed. <EOS>', '<START> A A sharp natural_minor excerpt, with a small length of 4 bars, in low range of notes, with medium pace. <EOS>', '<START> A medium excerpt that is 8 bars long, in the key of A major, within the full range of notes, with slow rhythm. <EOS>', '<START> A small segment that is 4 bars long, in the key of A major, within the high range of notes, with slow pace. <EOS>', '<START> A D major phrase, with a medium length of 8 bars, in full range of notes, with slow speed. <EOS>', '<START> A A dorian piece, with a small length of 4 bars, in full range of pitches, with slow rhythm. <EOS>')\n"
     ]
    }
   ],
   "source": [
    "print(midis)\n",
    "print(texts)"
   ]
  }
 ],
 "metadata": {
  "kernelspec": {
   "display_name": "Python 3 (ipykernel)",
   "language": "python",
   "name": "python3"
  },
  "language_info": {
   "codemirror_mode": {
    "name": "ipython",
    "version": 3
   },
   "file_extension": ".py",
   "mimetype": "text/x-python",
   "name": "python",
   "nbconvert_exporter": "python",
   "pygments_lexer": "ipython3",
   "version": "3.11.6"
  }
 },
 "nbformat": 4,
 "nbformat_minor": 5
}
