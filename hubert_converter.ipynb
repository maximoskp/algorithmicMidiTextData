{
 "cells": [
  {
   "cell_type": "code",
   "execution_count": 14,
   "id": "664f4966-f761-4e9c-a7b8-577bb6adbd1c",
   "metadata": {},
   "outputs": [],
   "source": [
    "## make dir\n",
    "import os\n",
    "import numpy as np\n",
    "\n",
    "os.makedirs('midis/test', exist_ok=True)\n",
    "converter_script = 'mscore'"
   ]
  },
  {
   "cell_type": "code",
   "execution_count": 16,
   "id": "c32e0b15-30cf-430e-97d9-82476d3e8d86",
   "metadata": {},
   "outputs": [
    {
     "name": "stdout",
     "output_type": "stream",
     "text": [
      "/usr/bin/mscore \"data/midis/b0_t8_m0_r0_s2_r4.mid\" -o \"data/midis_wavs/b0_t8_m0_r0_s2_r4.flac\"\n"
     ]
    },
    {
     "name": "stderr",
     "output_type": "stream",
     "text": [
      "initScoreFonts 0x559a485a30f0\n",
      "convert <data/midis/b0_t8_m0_r0_s2_r4.mid> to <data/midis_wavs/b0_t8_m0_r0_s2_r4.flac>\n",
      "-extra note off at 3960\n",
      "-extra note off at 4400\n"
     ]
    },
    {
     "name": "stdout",
     "output_type": "stream",
     "text": [
      "/usr/bin/mscore \"data/midis/b0_t11_m1_r1_s1_r5.mid\" -o \"data/midis_wavs/b0_t11_m1_r1_s1_r5.flac\"\n"
     ]
    },
    {
     "name": "stderr",
     "output_type": "stream",
     "text": [
      "initScoreFonts 0x5639d58410d0\n",
      "convert <data/midis/b0_t11_m1_r1_s1_r5.mid> to <data/midis_wavs/b0_t11_m1_r1_s1_r5.flac>\n",
      "-extra note off at 3960\n",
      "-extra note off at 4400\n"
     ]
    },
    {
     "name": "stdout",
     "output_type": "stream",
     "text": [
      "/usr/bin/mscore \"data/midis/b1_t11_m1_r0_s2_r2.mid\" -o \"data/midis_wavs/b1_t11_m1_r0_s2_r2.flac\"\n"
     ]
    },
    {
     "name": "stderr",
     "output_type": "stream",
     "text": [
      "initScoreFonts 0x5634891124f0\n",
      "convert <data/midis/b1_t11_m1_r0_s2_r2.mid> to <data/midis_wavs/b1_t11_m1_r0_s2_r2.flac>\n",
      "-extra note off at 7480\n",
      "-extra note off at 7920\n"
     ]
    },
    {
     "name": "stdout",
     "output_type": "stream",
     "text": [
      "/usr/bin/mscore \"data/midis/b2_t11_m2_r0_s2_r9.mid\" -o \"data/midis_wavs/b2_t11_m2_r0_s2_r9.flac\"\n"
     ]
    },
    {
     "name": "stderr",
     "output_type": "stream",
     "text": [
      "initScoreFonts 0x55c4dab7d0c0\n",
      "convert <data/midis/b2_t11_m2_r0_s2_r9.mid> to <data/midis_wavs/b2_t11_m2_r0_s2_r9.flac>\n",
      "-extra note off at 14520\n",
      "-extra note off at 14960\n"
     ]
    },
    {
     "name": "stdout",
     "output_type": "stream",
     "text": [
      "/usr/bin/mscore \"data/midis/b0_t2_m3_r0_s1_r4.mid\" -o \"data/midis_wavs/b0_t2_m3_r0_s1_r4.flac\"\n"
     ]
    },
    {
     "name": "stderr",
     "output_type": "stream",
     "text": [
      "initScoreFonts 0x55b3de660910\n",
      "convert <data/midis/b0_t2_m3_r0_s1_r4.mid> to <data/midis_wavs/b0_t2_m3_r0_s1_r4.flac>\n",
      "-extra note off at 3960\n",
      "-extra note off at 4400\n"
     ]
    },
    {
     "name": "stdout",
     "output_type": "stream",
     "text": [
      "/usr/bin/mscore \"data/midis/b0_t4_m0_r0_s1_r9.mid\" -o \"data/midis_wavs/b0_t4_m0_r0_s1_r9.flac\"\n"
     ]
    },
    {
     "name": "stderr",
     "output_type": "stream",
     "text": [
      "initScoreFonts 0x565003ef41d0\n",
      "convert <data/midis/b0_t4_m0_r0_s1_r9.mid> to <data/midis_wavs/b0_t4_m0_r0_s1_r9.flac>\n",
      "-extra note off at 3960\n",
      "-extra note off at 4400\n"
     ]
    },
    {
     "name": "stdout",
     "output_type": "stream",
     "text": [
      "/usr/bin/mscore \"data/midis/b2_t8_m0_r0_s2_r8.mid\" -o \"data/midis_wavs/b2_t8_m0_r0_s2_r8.flac\"\n"
     ]
    },
    {
     "name": "stderr",
     "output_type": "stream",
     "text": [
      "initScoreFonts 0x55aa26add660\n",
      "convert <data/midis/b2_t8_m0_r0_s2_r8.mid> to <data/midis_wavs/b2_t8_m0_r0_s2_r8.flac>\n",
      "-extra note off at 14520\n",
      "-extra note off at 14960\n"
     ]
    },
    {
     "name": "stdout",
     "output_type": "stream",
     "text": [
      "/usr/bin/mscore \"data/midis/b1_t2_m0_r0_s1_r3.mid\" -o \"data/midis_wavs/b1_t2_m0_r0_s1_r3.flac\"\n"
     ]
    },
    {
     "name": "stderr",
     "output_type": "stream",
     "text": [
      "initScoreFonts 0x563c0c8a97d0\n",
      "convert <data/midis/b1_t2_m0_r0_s1_r3.mid> to <data/midis_wavs/b1_t2_m0_r0_s1_r3.flac>\n",
      "-extra note off at 7480\n",
      "-extra note off at 7920\n"
     ]
    },
    {
     "name": "stdout",
     "output_type": "stream",
     "text": [
      "/usr/bin/mscore \"data/midis/b0_t11_m0_r0_s2_r0.mid\" -o \"data/midis_wavs/b0_t11_m0_r0_s2_r0.flac\"\n"
     ]
    },
    {
     "name": "stderr",
     "output_type": "stream",
     "text": [
      "initScoreFonts 0x55573b252c90\n",
      "convert <data/midis/b0_t11_m0_r0_s2_r0.mid> to <data/midis_wavs/b0_t11_m0_r0_s2_r0.flac>\n",
      "-extra note off at 3960\n",
      "-extra note off at 4400\n"
     ]
    },
    {
     "name": "stdout",
     "output_type": "stream",
     "text": [
      "/usr/bin/mscore \"data/midis/b0_t9_m1_r1_s0_r1.mid\" -o \"data/midis_wavs/b0_t9_m1_r1_s0_r1.flac\"\n"
     ]
    },
    {
     "name": "stderr",
     "output_type": "stream",
     "text": [
      "initScoreFonts 0x55c75eb92630\n",
      "convert <data/midis/b0_t9_m1_r1_s0_r1.mid> to <data/midis_wavs/b0_t9_m1_r1_s0_r1.flac>\n",
      "-extra note off at 3960\n",
      "-extra note off at 4400\n"
     ]
    },
    {
     "name": "stdout",
     "output_type": "stream",
     "text": [
      "/usr/bin/mscore \"data/midis/b2_t7_m2_r0_s2_r1.mid\" -o \"data/midis_wavs/b2_t7_m2_r0_s2_r1.flac\"\n"
     ]
    },
    {
     "name": "stderr",
     "output_type": "stream",
     "text": [
      "initScoreFonts 0x564ae66241f0\n",
      "convert <data/midis/b2_t7_m2_r0_s2_r1.mid> to <data/midis_wavs/b2_t7_m2_r0_s2_r1.flac>\n",
      "-extra note off at 14520\n",
      "-extra note off at 14960\n"
     ]
    },
    {
     "name": "stdout",
     "output_type": "stream",
     "text": [
      "/usr/bin/mscore \"data/midis/b2_t7_m0_r0_s0_r7.mid\" -o \"data/midis_wavs/b2_t7_m0_r0_s0_r7.flac\"\n"
     ]
    },
    {
     "name": "stderr",
     "output_type": "stream",
     "text": [
      "initScoreFonts 0x555c573bd430\n",
      "convert <data/midis/b2_t7_m0_r0_s0_r7.mid> to <data/midis_wavs/b2_t7_m0_r0_s0_r7.flac>\n",
      "-extra note off at 14520\n",
      "-extra note off at 14960\n"
     ]
    },
    {
     "name": "stdout",
     "output_type": "stream",
     "text": [
      "/usr/bin/mscore \"data/midis/b1_t9_m1_r2_s2_r7.mid\" -o \"data/midis_wavs/b1_t9_m1_r2_s2_r7.flac\"\n"
     ]
    },
    {
     "name": "stderr",
     "output_type": "stream",
     "text": [
      "initScoreFonts 0x564e145dc200\n",
      "convert <data/midis/b1_t9_m1_r2_s2_r7.mid> to <data/midis_wavs/b1_t9_m1_r2_s2_r7.flac>\n",
      "-extra note off at 7480\n",
      "-extra note off at 7920\n"
     ]
    },
    {
     "name": "stdout",
     "output_type": "stream",
     "text": [
      "/usr/bin/mscore \"data/midis/b0_t7_m3_r2_s1_r3.mid\" -o \"data/midis_wavs/b0_t7_m3_r2_s1_r3.flac\"\n"
     ]
    },
    {
     "name": "stderr",
     "output_type": "stream",
     "text": [
      "initScoreFonts 0x55e729fb92b0\n",
      "convert <data/midis/b0_t7_m3_r2_s1_r3.mid> to <data/midis_wavs/b0_t7_m3_r2_s1_r3.flac>\n",
      "-extra note off at 3960\n",
      "-extra note off at 4400\n"
     ]
    },
    {
     "name": "stdout",
     "output_type": "stream",
     "text": [
      "/usr/bin/mscore \"data/midis/b1_t1_m0_r0_s0_r9.mid\" -o \"data/midis_wavs/b1_t1_m0_r0_s0_r9.flac\"\n"
     ]
    },
    {
     "name": "stderr",
     "output_type": "stream",
     "text": [
      "initScoreFonts 0x55622507d910\n",
      "convert <data/midis/b1_t1_m0_r0_s0_r9.mid> to <data/midis_wavs/b1_t1_m0_r0_s0_r9.flac>\n",
      "-extra note off at 7480\n",
      "-extra note off at 7920\n"
     ]
    },
    {
     "name": "stdout",
     "output_type": "stream",
     "text": [
      "/usr/bin/mscore \"data/midis/b2_t7_m1_r2_s1_r5.mid\" -o \"data/midis_wavs/b2_t7_m1_r2_s1_r5.flac\"\n"
     ]
    },
    {
     "name": "stderr",
     "output_type": "stream",
     "text": [
      "initScoreFonts 0x562fc8c3bed0\n",
      "convert <data/midis/b2_t7_m1_r2_s1_r5.mid> to <data/midis_wavs/b2_t7_m1_r2_s1_r5.flac>\n",
      "-extra note off at 14520\n",
      "-extra note off at 14960\n"
     ]
    },
    {
     "name": "stdout",
     "output_type": "stream",
     "text": [
      "/usr/bin/mscore \"data/midis/b1_t2_m0_r0_s0_r1.mid\" -o \"data/midis_wavs/b1_t2_m0_r0_s0_r1.flac\"\n"
     ]
    },
    {
     "name": "stderr",
     "output_type": "stream",
     "text": [
      "initScoreFonts 0x55a578258190\n",
      "convert <data/midis/b1_t2_m0_r0_s0_r1.mid> to <data/midis_wavs/b1_t2_m0_r0_s0_r1.flac>\n",
      "-extra note off at 7480\n",
      "-extra note off at 7920\n"
     ]
    },
    {
     "name": "stdout",
     "output_type": "stream",
     "text": [
      "/usr/bin/mscore \"data/midis/b0_t1_m1_r1_s0_r3.mid\" -o \"data/midis_wavs/b0_t1_m1_r1_s0_r3.flac\"\n"
     ]
    },
    {
     "name": "stderr",
     "output_type": "stream",
     "text": [
      "initScoreFonts 0x55675510b4f0\n",
      "convert <data/midis/b0_t1_m1_r1_s0_r3.mid> to <data/midis_wavs/b0_t1_m1_r1_s0_r3.flac>\n",
      "-extra note off at 3960\n",
      "-extra note off at 4400\n"
     ]
    },
    {
     "name": "stdout",
     "output_type": "stream",
     "text": [
      "/usr/bin/mscore \"data/midis/b0_t6_m2_r2_s2_r9.mid\" -o \"data/midis_wavs/b0_t6_m2_r2_s2_r9.flac\"\n"
     ]
    },
    {
     "name": "stderr",
     "output_type": "stream",
     "text": [
      "initScoreFonts 0x561ccfc566b0\n",
      "convert <data/midis/b0_t6_m2_r2_s2_r9.mid> to <data/midis_wavs/b0_t6_m2_r2_s2_r9.flac>\n",
      "-extra note off at 3960\n",
      "-extra note off at 4400\n"
     ]
    },
    {
     "name": "stdout",
     "output_type": "stream",
     "text": [
      "/usr/bin/mscore \"data/midis/b0_t8_m0_r2_s1_r9.mid\" -o \"data/midis_wavs/b0_t8_m0_r2_s1_r9.flac\"\n"
     ]
    },
    {
     "name": "stderr",
     "output_type": "stream",
     "text": [
      "initScoreFonts 0x558329cf3470\n",
      "convert <data/midis/b0_t8_m0_r2_s1_r9.mid> to <data/midis_wavs/b0_t8_m0_r2_s1_r9.flac>\n",
      "-extra note off at 3960\n",
      "-extra note off at 4400\n"
     ]
    },
    {
     "name": "stdout",
     "output_type": "stream",
     "text": [
      "/usr/bin/mscore \"data/midis/b1_t9_m2_r1_s2_r0.mid\" -o \"data/midis_wavs/b1_t9_m2_r1_s2_r0.flac\"\n"
     ]
    },
    {
     "name": "stderr",
     "output_type": "stream",
     "text": [
      "initScoreFonts 0x5570832c7550\n",
      "convert <data/midis/b1_t9_m2_r1_s2_r0.mid> to <data/midis_wavs/b1_t9_m2_r1_s2_r0.flac>\n",
      "-extra note off at 7480\n",
      "-extra note off at 7920\n"
     ]
    },
    {
     "name": "stdout",
     "output_type": "stream",
     "text": [
      "/usr/bin/mscore \"data/midis/b0_t6_m2_r2_s1_r6.mid\" -o \"data/midis_wavs/b0_t6_m2_r2_s1_r6.flac\"\n"
     ]
    },
    {
     "name": "stderr",
     "output_type": "stream",
     "text": [
      "initScoreFonts 0x558afd5e02c0\n",
      "convert <data/midis/b0_t6_m2_r2_s1_r6.mid> to <data/midis_wavs/b0_t6_m2_r2_s1_r6.flac>\n",
      "-extra note off at 3960\n",
      "-extra note off at 4400\n"
     ]
    },
    {
     "name": "stdout",
     "output_type": "stream",
     "text": [
      "/usr/bin/mscore \"data/midis/b1_t2_m0_r1_s0_r2.mid\" -o \"data/midis_wavs/b1_t2_m0_r1_s0_r2.flac\"\n"
     ]
    },
    {
     "name": "stderr",
     "output_type": "stream",
     "text": [
      "initScoreFonts 0x55d92d805880\n",
      "convert <data/midis/b1_t2_m0_r1_s0_r2.mid> to <data/midis_wavs/b1_t2_m0_r1_s0_r2.flac>\n",
      "-extra note off at 7480\n",
      "-extra note off at 7920\n"
     ]
    },
    {
     "name": "stdout",
     "output_type": "stream",
     "text": [
      "/usr/bin/mscore \"data/midis/b0_t4_m1_r1_s2_r2.mid\" -o \"data/midis_wavs/b0_t4_m1_r1_s2_r2.flac\"\n"
     ]
    },
    {
     "name": "stderr",
     "output_type": "stream",
     "text": [
      "initScoreFonts 0x556232e97fe0\n",
      "convert <data/midis/b0_t4_m1_r1_s2_r2.mid> to <data/midis_wavs/b0_t4_m1_r1_s2_r2.flac>\n",
      "-extra note off at 3960\n",
      "-extra note off at 4400\n"
     ]
    },
    {
     "name": "stdout",
     "output_type": "stream",
     "text": [
      "/usr/bin/mscore \"data/midis/b2_t4_m1_r2_s2_r5.mid\" -o \"data/midis_wavs/b2_t4_m1_r2_s2_r5.flac\"\n"
     ]
    },
    {
     "name": "stderr",
     "output_type": "stream",
     "text": [
      "initScoreFonts 0x55f0f64267b0\n",
      "convert <data/midis/b2_t4_m1_r2_s2_r5.mid> to <data/midis_wavs/b2_t4_m1_r2_s2_r5.flac>\n",
      "-extra note off at 14520\n",
      "-extra note off at 14960\n"
     ]
    },
    {
     "name": "stdout",
     "output_type": "stream",
     "text": [
      "/usr/bin/mscore \"data/midis/b0_t0_m0_r0_s1_r2.mid\" -o \"data/midis_wavs/b0_t0_m0_r0_s1_r2.flac\"\n"
     ]
    },
    {
     "name": "stderr",
     "output_type": "stream",
     "text": [
      "initScoreFonts 0x55bf96a08880\n",
      "convert <data/midis/b0_t0_m0_r0_s1_r2.mid> to <data/midis_wavs/b0_t0_m0_r0_s1_r2.flac>\n",
      "-extra note off at 3960\n",
      "-extra note off at 4400\n"
     ]
    },
    {
     "name": "stdout",
     "output_type": "stream",
     "text": [
      "/usr/bin/mscore \"data/midis/b0_t0_m2_r2_s2_r7.mid\" -o \"data/midis_wavs/b0_t0_m2_r2_s2_r7.flac\"\n"
     ]
    },
    {
     "name": "stderr",
     "output_type": "stream",
     "text": [
      "initScoreFonts 0x563dfb552b10\n",
      "convert <data/midis/b0_t0_m2_r2_s2_r7.mid> to <data/midis_wavs/b0_t0_m2_r2_s2_r7.flac>\n",
      "-extra note off at 3960\n",
      "-extra note off at 4400\n"
     ]
    },
    {
     "name": "stdout",
     "output_type": "stream",
     "text": [
      "/usr/bin/mscore \"data/midis/b1_t9_m3_r0_s2_r0.mid\" -o \"data/midis_wavs/b1_t9_m3_r0_s2_r0.flac\"\n"
     ]
    },
    {
     "name": "stderr",
     "output_type": "stream",
     "text": [
      "initScoreFonts 0x55a8efb8e490\n",
      "convert <data/midis/b1_t9_m3_r0_s2_r0.mid> to <data/midis_wavs/b1_t9_m3_r0_s2_r0.flac>\n",
      "-extra note off at 7480\n",
      "-extra note off at 7920\n"
     ]
    },
    {
     "name": "stdout",
     "output_type": "stream",
     "text": [
      "/usr/bin/mscore \"data/midis/b0_t11_m2_r2_s0_r3.mid\" -o \"data/midis_wavs/b0_t11_m2_r2_s0_r3.flac\"\n"
     ]
    },
    {
     "name": "stderr",
     "output_type": "stream",
     "text": [
      "initScoreFonts 0x55da1f8f7170\n",
      "convert <data/midis/b0_t11_m2_r2_s0_r3.mid> to <data/midis_wavs/b0_t11_m2_r2_s0_r3.flac>\n",
      "-extra note off at 3960\n",
      "-extra note off at 4400\n"
     ]
    },
    {
     "name": "stdout",
     "output_type": "stream",
     "text": [
      "/usr/bin/mscore \"data/midis/b2_t1_m0_r1_s0_r0.mid\" -o \"data/midis_wavs/b2_t1_m0_r1_s0_r0.flac\"\n"
     ]
    },
    {
     "name": "stderr",
     "output_type": "stream",
     "text": [
      "initScoreFonts 0x559e9ddb2c30\n",
      "convert <data/midis/b2_t1_m0_r1_s0_r0.mid> to <data/midis_wavs/b2_t1_m0_r1_s0_r0.flac>\n",
      "-extra note off at 14520\n",
      "-extra note off at 14960\n"
     ]
    },
    {
     "name": "stdout",
     "output_type": "stream",
     "text": [
      "/usr/bin/mscore \"data/midis/b2_t5_m2_r0_s0_r7.mid\" -o \"data/midis_wavs/b2_t5_m2_r0_s0_r7.flac\"\n"
     ]
    },
    {
     "name": "stderr",
     "output_type": "stream",
     "text": [
      "initScoreFonts 0x558e826f9d10\n",
      "convert <data/midis/b2_t5_m2_r0_s0_r7.mid> to <data/midis_wavs/b2_t5_m2_r0_s0_r7.flac>\n",
      "-extra note off at 14520\n",
      "-extra note off at 14960\n"
     ]
    },
    {
     "name": "stdout",
     "output_type": "stream",
     "text": [
      "/usr/bin/mscore \"data/midis/b0_t6_m3_r0_s1_r3.mid\" -o \"data/midis_wavs/b0_t6_m3_r0_s1_r3.flac\"\n"
     ]
    },
    {
     "name": "stderr",
     "output_type": "stream",
     "text": [
      "initScoreFonts 0x5604d71b3570\n",
      "convert <data/midis/b0_t6_m3_r0_s1_r3.mid> to <data/midis_wavs/b0_t6_m3_r0_s1_r3.flac>\n",
      "-extra note off at 3960\n",
      "-extra note off at 4400\n"
     ]
    },
    {
     "name": "stdout",
     "output_type": "stream",
     "text": [
      "/usr/bin/mscore \"data/midis/b2_t9_m0_r1_s0_r0.mid\" -o \"data/midis_wavs/b2_t9_m0_r1_s0_r0.flac\"\n"
     ]
    },
    {
     "name": "stderr",
     "output_type": "stream",
     "text": [
      "initScoreFonts 0x558d29943910\n",
      "convert <data/midis/b2_t9_m0_r1_s0_r0.mid> to <data/midis_wavs/b2_t9_m0_r1_s0_r0.flac>\n",
      "-extra note off at 14520\n",
      "-extra note off at 14960\n"
     ]
    },
    {
     "name": "stdout",
     "output_type": "stream",
     "text": [
      "/usr/bin/mscore \"data/midis/b2_t4_m1_r0_s0_r2.mid\" -o \"data/midis_wavs/b2_t4_m1_r0_s0_r2.flac\"\n"
     ]
    },
    {
     "name": "stderr",
     "output_type": "stream",
     "text": [
      "initScoreFonts 0x5616743a97d0\n",
      "convert <data/midis/b2_t4_m1_r0_s0_r2.mid> to <data/midis_wavs/b2_t4_m1_r0_s0_r2.flac>\n",
      "-extra note off at 14520\n",
      "-extra note off at 14960\n"
     ]
    },
    {
     "name": "stdout",
     "output_type": "stream",
     "text": [
      "/usr/bin/mscore \"data/midis/b2_t8_m3_r2_s0_r6.mid\" -o \"data/midis_wavs/b2_t8_m3_r2_s0_r6.flac\"\n"
     ]
    },
    {
     "name": "stderr",
     "output_type": "stream",
     "text": [
      "initScoreFonts 0x56213d7e9d30\n",
      "convert <data/midis/b2_t8_m3_r2_s0_r6.mid> to <data/midis_wavs/b2_t8_m3_r2_s0_r6.flac>\n",
      "-extra note off at 14520\n",
      "-extra note off at 14960\n"
     ]
    },
    {
     "name": "stdout",
     "output_type": "stream",
     "text": [
      "/usr/bin/mscore \"data/midis/b0_t0_m3_r0_s2_r1.mid\" -o \"data/midis_wavs/b0_t0_m3_r0_s2_r1.flac\"\n"
     ]
    },
    {
     "name": "stderr",
     "output_type": "stream",
     "text": [
      "initScoreFonts 0x55d2784dfc20\n",
      "convert <data/midis/b0_t0_m3_r0_s2_r1.mid> to <data/midis_wavs/b0_t0_m3_r0_s2_r1.flac>\n",
      "-extra note off at 3960\n",
      "-extra note off at 4400\n"
     ]
    },
    {
     "name": "stdout",
     "output_type": "stream",
     "text": [
      "/usr/bin/mscore \"data/midis/b2_t4_m0_r2_s1_r7.mid\" -o \"data/midis_wavs/b2_t4_m0_r2_s1_r7.flac\"\n"
     ]
    },
    {
     "name": "stderr",
     "output_type": "stream",
     "text": [
      "initScoreFonts 0x558594deb820\n",
      "convert <data/midis/b2_t4_m0_r2_s1_r7.mid> to <data/midis_wavs/b2_t4_m0_r2_s1_r7.flac>\n",
      "-extra note off at 14520\n",
      "-extra note off at 14960\n"
     ]
    },
    {
     "name": "stdout",
     "output_type": "stream",
     "text": [
      "/usr/bin/mscore \"data/midis/b2_t4_m2_r2_s1_r7.mid\" -o \"data/midis_wavs/b2_t4_m2_r2_s1_r7.flac\"\n"
     ]
    },
    {
     "name": "stderr",
     "output_type": "stream",
     "text": [
      "initScoreFonts 0x55c354d62f30\n",
      "convert <data/midis/b2_t4_m2_r2_s1_r7.mid> to <data/midis_wavs/b2_t4_m2_r2_s1_r7.flac>\n",
      "-extra note off at 14520\n",
      "-extra note off at 14960\n"
     ]
    },
    {
     "name": "stdout",
     "output_type": "stream",
     "text": [
      "/usr/bin/mscore \"data/midis/b2_t5_m2_r1_s0_r4.mid\" -o \"data/midis_wavs/b2_t5_m2_r1_s0_r4.flac\"\n"
     ]
    },
    {
     "name": "stderr",
     "output_type": "stream",
     "text": [
      "initScoreFonts 0x555f93c53200\n",
      "convert <data/midis/b2_t5_m2_r1_s0_r4.mid> to <data/midis_wavs/b2_t5_m2_r1_s0_r4.flac>\n",
      "-extra note off at 14520\n",
      "-extra note off at 14960\n"
     ]
    },
    {
     "name": "stdout",
     "output_type": "stream",
     "text": [
      "/usr/bin/mscore \"data/midis/b1_t10_m3_r1_s0_r1.mid\" -o \"data/midis_wavs/b1_t10_m3_r1_s0_r1.flac\"\n"
     ]
    },
    {
     "name": "stderr",
     "output_type": "stream",
     "text": [
      "initScoreFonts 0x55ffbc6f7240\n",
      "convert <data/midis/b1_t10_m3_r1_s0_r1.mid> to <data/midis_wavs/b1_t10_m3_r1_s0_r1.flac>\n",
      "-extra note off at 7480\n",
      "-extra note off at 7920\n"
     ]
    },
    {
     "name": "stdout",
     "output_type": "stream",
     "text": [
      "/usr/bin/mscore \"data/midis/b0_t6_m3_r2_s1_r7.mid\" -o \"data/midis_wavs/b0_t6_m3_r2_s1_r7.flac\"\n"
     ]
    },
    {
     "name": "stderr",
     "output_type": "stream",
     "text": [
      "initScoreFonts 0x55dd997c4f70\n",
      "convert <data/midis/b0_t6_m3_r2_s1_r7.mid> to <data/midis_wavs/b0_t6_m3_r2_s1_r7.flac>\n",
      "-extra note off at 3960\n",
      "-extra note off at 4400\n"
     ]
    },
    {
     "name": "stdout",
     "output_type": "stream",
     "text": [
      "/usr/bin/mscore \"data/midis/b0_t4_m3_r2_s0_r7.mid\" -o \"data/midis_wavs/b0_t4_m3_r2_s0_r7.flac\"\n"
     ]
    },
    {
     "name": "stderr",
     "output_type": "stream",
     "text": [
      "initScoreFonts 0x561d1e2c37d0\n",
      "convert <data/midis/b0_t4_m3_r2_s0_r7.mid> to <data/midis_wavs/b0_t4_m3_r2_s0_r7.flac>\n",
      "-extra note off at 3960\n",
      "-extra note off at 4400\n"
     ]
    },
    {
     "name": "stdout",
     "output_type": "stream",
     "text": [
      "/usr/bin/mscore \"data/midis/b2_t8_m2_r0_s2_r6.mid\" -o \"data/midis_wavs/b2_t8_m2_r0_s2_r6.flac\"\n"
     ]
    },
    {
     "name": "stderr",
     "output_type": "stream",
     "text": [
      "initScoreFonts 0x55fe04d36c90\n",
      "convert <data/midis/b2_t8_m2_r0_s2_r6.mid> to <data/midis_wavs/b2_t8_m2_r0_s2_r6.flac>\n",
      "-extra note off at 14520\n",
      "-extra note off at 14960\n"
     ]
    },
    {
     "name": "stdout",
     "output_type": "stream",
     "text": [
      "/usr/bin/mscore \"data/midis/b1_t6_m3_r2_s0_r0.mid\" -o \"data/midis_wavs/b1_t6_m3_r2_s0_r0.flac\"\n"
     ]
    },
    {
     "name": "stderr",
     "output_type": "stream",
     "text": [
      "initScoreFonts 0x561f82d1e910\n",
      "convert <data/midis/b1_t6_m3_r2_s0_r0.mid> to <data/midis_wavs/b1_t6_m3_r2_s0_r0.flac>\n",
      "-extra note off at 7480\n",
      "-extra note off at 7920\n"
     ]
    },
    {
     "name": "stdout",
     "output_type": "stream",
     "text": [
      "/usr/bin/mscore \"data/midis/b1_t8_m3_r2_s2_r9.mid\" -o \"data/midis_wavs/b1_t8_m3_r2_s2_r9.flac\"\n"
     ]
    },
    {
     "name": "stderr",
     "output_type": "stream",
     "text": [
      "initScoreFonts 0x5640a5090b00\n",
      "convert <data/midis/b1_t8_m3_r2_s2_r9.mid> to <data/midis_wavs/b1_t8_m3_r2_s2_r9.flac>\n",
      "-extra note off at 7480\n",
      "-extra note off at 7920\n"
     ]
    },
    {
     "name": "stdout",
     "output_type": "stream",
     "text": [
      "/usr/bin/mscore \"data/midis/b0_t11_m0_r2_s0_r7.mid\" -o \"data/midis_wavs/b0_t11_m0_r2_s0_r7.flac\"\n"
     ]
    },
    {
     "name": "stderr",
     "output_type": "stream",
     "text": [
      "initScoreFonts 0x562ef77f2fd0\n",
      "convert <data/midis/b0_t11_m0_r2_s0_r7.mid> to <data/midis_wavs/b0_t11_m0_r2_s0_r7.flac>\n",
      "-extra note off at 3960\n",
      "-extra note off at 4400\n"
     ]
    },
    {
     "name": "stdout",
     "output_type": "stream",
     "text": [
      "/usr/bin/mscore \"data/midis/b1_t4_m1_r1_s1_r1.mid\" -o \"data/midis_wavs/b1_t4_m1_r1_s1_r1.flac\"\n"
     ]
    },
    {
     "name": "stderr",
     "output_type": "stream",
     "text": [
      "initScoreFonts 0x563fb9ce40a0\n",
      "convert <data/midis/b1_t4_m1_r1_s1_r1.mid> to <data/midis_wavs/b1_t4_m1_r1_s1_r1.flac>\n",
      "-extra note off at 7480\n",
      "-extra note off at 7920\n"
     ]
    },
    {
     "name": "stdout",
     "output_type": "stream",
     "text": [
      "/usr/bin/mscore \"data/midis/b2_t11_m2_r1_s2_r3.mid\" -o \"data/midis_wavs/b2_t11_m2_r1_s2_r3.flac\"\n"
     ]
    },
    {
     "name": "stderr",
     "output_type": "stream",
     "text": [
      "initScoreFonts 0x5563e0fe7900\n",
      "convert <data/midis/b2_t11_m2_r1_s2_r3.mid> to <data/midis_wavs/b2_t11_m2_r1_s2_r3.flac>\n",
      "-extra note off at 14520\n",
      "-extra note off at 14960\n"
     ]
    },
    {
     "name": "stdout",
     "output_type": "stream",
     "text": [
      "/usr/bin/mscore \"data/midis/b1_t6_m2_r1_s0_r3.mid\" -o \"data/midis_wavs/b1_t6_m2_r1_s0_r3.flac\"\n"
     ]
    },
    {
     "name": "stderr",
     "output_type": "stream",
     "text": [
      "initScoreFonts 0x5625b81bf4f0\n",
      "convert <data/midis/b1_t6_m2_r1_s0_r3.mid> to <data/midis_wavs/b1_t6_m2_r1_s0_r3.flac>\n",
      "-extra note off at 7480\n",
      "-extra note off at 7920\n"
     ]
    },
    {
     "name": "stdout",
     "output_type": "stream",
     "text": [
      "/usr/bin/mscore \"data/midis/b2_t7_m3_r0_s0_r4.mid\" -o \"data/midis_wavs/b2_t7_m3_r0_s0_r4.flac\"\n"
     ]
    },
    {
     "name": "stderr",
     "output_type": "stream",
     "text": [
      "initScoreFonts 0x556964e5dfd0\n",
      "convert <data/midis/b2_t7_m3_r0_s0_r4.mid> to <data/midis_wavs/b2_t7_m3_r0_s0_r4.flac>\n",
      "-extra note off at 14520\n",
      "-extra note off at 14960\n"
     ]
    },
    {
     "name": "stdout",
     "output_type": "stream",
     "text": [
      "/usr/bin/mscore \"data/midis/b2_t4_m3_r1_s1_r4.mid\" -o \"data/midis_wavs/b2_t4_m3_r1_s1_r4.flac\"\n"
     ]
    },
    {
     "name": "stderr",
     "output_type": "stream",
     "text": [
      "initScoreFonts 0x5560865eae00\n",
      "convert <data/midis/b2_t4_m3_r1_s1_r4.mid> to <data/midis_wavs/b2_t4_m3_r1_s1_r4.flac>\n",
      "-extra note off at 14520\n",
      "-extra note off at 14960\n"
     ]
    },
    {
     "name": "stdout",
     "output_type": "stream",
     "text": [
      "/usr/bin/mscore \"data/midis/b0_t1_m2_r1_s2_r3.mid\" -o \"data/midis_wavs/b0_t1_m2_r1_s2_r3.flac\"\n"
     ]
    },
    {
     "name": "stderr",
     "output_type": "stream",
     "text": [
      "initScoreFonts 0x55c6fd0165e0\n",
      "convert <data/midis/b0_t1_m2_r1_s2_r3.mid> to <data/midis_wavs/b0_t1_m2_r1_s2_r3.flac>\n",
      "-extra note off at 3960\n",
      "-extra note off at 4400\n"
     ]
    },
    {
     "name": "stdout",
     "output_type": "stream",
     "text": [
      "/usr/bin/mscore \"data/midis/b1_t0_m0_r0_s2_r8.mid\" -o \"data/midis_wavs/b1_t0_m0_r0_s2_r8.flac\"\n"
     ]
    },
    {
     "name": "stderr",
     "output_type": "stream",
     "text": [
      "initScoreFonts 0x55f4f34f4d60\n",
      "convert <data/midis/b1_t0_m0_r0_s2_r8.mid> to <data/midis_wavs/b1_t0_m0_r0_s2_r8.flac>\n",
      "-extra note off at 7480\n",
      "-extra note off at 7920\n"
     ]
    },
    {
     "name": "stdout",
     "output_type": "stream",
     "text": [
      "/usr/bin/mscore \"data/midis/b2_t10_m3_r1_s2_r2.mid\" -o \"data/midis_wavs/b2_t10_m3_r1_s2_r2.flac\"\n"
     ]
    },
    {
     "name": "stderr",
     "output_type": "stream",
     "text": [
      "initScoreFonts 0x557994d74fa0\n",
      "convert <data/midis/b2_t10_m3_r1_s2_r2.mid> to <data/midis_wavs/b2_t10_m3_r1_s2_r2.flac>\n",
      "-extra note off at 14520\n",
      "-extra note off at 14960\n"
     ]
    },
    {
     "name": "stdout",
     "output_type": "stream",
     "text": [
      "/usr/bin/mscore \"data/midis/b1_t3_m1_r2_s2_r6.mid\" -o \"data/midis_wavs/b1_t3_m1_r2_s2_r6.flac\"\n"
     ]
    },
    {
     "name": "stderr",
     "output_type": "stream",
     "text": [
      "initScoreFonts 0x556aebcb6090\n",
      "convert <data/midis/b1_t3_m1_r2_s2_r6.mid> to <data/midis_wavs/b1_t3_m1_r2_s2_r6.flac>\n",
      "-extra note off at 7480\n",
      "-extra note off at 7920\n"
     ]
    },
    {
     "name": "stdout",
     "output_type": "stream",
     "text": [
      "/usr/bin/mscore \"data/midis/b2_t6_m1_r1_s0_r0.mid\" -o \"data/midis_wavs/b2_t6_m1_r1_s0_r0.flac\"\n"
     ]
    },
    {
     "name": "stderr",
     "output_type": "stream",
     "text": [
      "initScoreFonts 0x55d62bd33ca0\n",
      "convert <data/midis/b2_t6_m1_r1_s0_r0.mid> to <data/midis_wavs/b2_t6_m1_r1_s0_r0.flac>\n",
      "-extra note off at 14520\n",
      "-extra note off at 14960\n"
     ]
    },
    {
     "name": "stdout",
     "output_type": "stream",
     "text": [
      "/usr/bin/mscore \"data/midis/b2_t3_m2_r2_s2_r4.mid\" -o \"data/midis_wavs/b2_t3_m2_r2_s2_r4.flac\"\n"
     ]
    },
    {
     "name": "stderr",
     "output_type": "stream",
     "text": [
      "initScoreFonts 0x56079366db00\n",
      "convert <data/midis/b2_t3_m2_r2_s2_r4.mid> to <data/midis_wavs/b2_t3_m2_r2_s2_r4.flac>\n",
      "-extra note off at 14520\n",
      "-extra note off at 14960\n"
     ]
    },
    {
     "name": "stdout",
     "output_type": "stream",
     "text": [
      "/usr/bin/mscore \"data/midis/b2_t1_m2_r0_s2_r3.mid\" -o \"data/midis_wavs/b2_t1_m2_r0_s2_r3.flac\"\n"
     ]
    },
    {
     "name": "stderr",
     "output_type": "stream",
     "text": [
      "initScoreFonts 0x55add7f6c850\n",
      "convert <data/midis/b2_t1_m2_r0_s2_r3.mid> to <data/midis_wavs/b2_t1_m2_r0_s2_r3.flac>\n",
      "-extra note off at 14520\n",
      "-extra note off at 14960\n"
     ]
    },
    {
     "name": "stdout",
     "output_type": "stream",
     "text": [
      "/usr/bin/mscore \"data/midis/b1_t10_m3_r1_s2_r7.mid\" -o \"data/midis_wavs/b1_t10_m3_r1_s2_r7.flac\"\n"
     ]
    },
    {
     "name": "stderr",
     "output_type": "stream",
     "text": [
      "initScoreFonts 0x555710679140\n",
      "convert <data/midis/b1_t10_m3_r1_s2_r7.mid> to <data/midis_wavs/b1_t10_m3_r1_s2_r7.flac>\n",
      "-extra note off at 7480\n",
      "-extra note off at 7920\n"
     ]
    },
    {
     "name": "stdout",
     "output_type": "stream",
     "text": [
      "/usr/bin/mscore \"data/midis/b0_t5_m2_r2_s2_r1.mid\" -o \"data/midis_wavs/b0_t5_m2_r2_s2_r1.flac\"\n"
     ]
    },
    {
     "name": "stderr",
     "output_type": "stream",
     "text": [
      "initScoreFonts 0x564bb05b5b60\n",
      "convert <data/midis/b0_t5_m2_r2_s2_r1.mid> to <data/midis_wavs/b0_t5_m2_r2_s2_r1.flac>\n",
      "-extra note off at 3960\n",
      "-extra note off at 4400\n"
     ]
    },
    {
     "name": "stdout",
     "output_type": "stream",
     "text": [
      "/usr/bin/mscore \"data/midis/b0_t5_m2_r1_s0_r0.mid\" -o \"data/midis_wavs/b0_t5_m2_r1_s0_r0.flac\"\n"
     ]
    },
    {
     "name": "stderr",
     "output_type": "stream",
     "text": [
      "initScoreFonts 0x55c5b17166e0\n",
      "convert <data/midis/b0_t5_m2_r1_s0_r0.mid> to <data/midis_wavs/b0_t5_m2_r1_s0_r0.flac>\n",
      "-extra note off at 3960\n",
      "-extra note off at 4400\n"
     ]
    },
    {
     "name": "stdout",
     "output_type": "stream",
     "text": [
      "/usr/bin/mscore \"data/midis/b1_t1_m0_r0_s1_r5.mid\" -o \"data/midis_wavs/b1_t1_m0_r0_s1_r5.flac\"\n"
     ]
    },
    {
     "name": "stderr",
     "output_type": "stream",
     "text": [
      "initScoreFonts 0x55bb6b1af570\n",
      "convert <data/midis/b1_t1_m0_r0_s1_r5.mid> to <data/midis_wavs/b1_t1_m0_r0_s1_r5.flac>\n",
      "-extra note off at 7480\n",
      "-extra note off at 7920\n"
     ]
    },
    {
     "name": "stdout",
     "output_type": "stream",
     "text": [
      "/usr/bin/mscore \"data/midis/b0_t10_m3_r2_s1_r4.mid\" -o \"data/midis_wavs/b0_t10_m3_r2_s1_r4.flac\"\n"
     ]
    },
    {
     "name": "stderr",
     "output_type": "stream",
     "text": [
      "initScoreFonts 0x55f7e54d5090\n",
      "convert <data/midis/b0_t10_m3_r2_s1_r4.mid> to <data/midis_wavs/b0_t10_m3_r2_s1_r4.flac>\n",
      "-extra note off at 3960\n",
      "-extra note off at 4400\n"
     ]
    },
    {
     "name": "stdout",
     "output_type": "stream",
     "text": [
      "/usr/bin/mscore \"data/midis/b2_t4_m2_r1_s2_r1.mid\" -o \"data/midis_wavs/b2_t4_m2_r1_s2_r1.flac\"\n"
     ]
    },
    {
     "name": "stderr",
     "output_type": "stream",
     "text": [
      "initScoreFonts 0x55e5bfa00da0\n",
      "convert <data/midis/b2_t4_m2_r1_s2_r1.mid> to <data/midis_wavs/b2_t4_m2_r1_s2_r1.flac>\n",
      "-extra note off at 14520\n",
      "-extra note off at 14960\n"
     ]
    },
    {
     "name": "stdout",
     "output_type": "stream",
     "text": [
      "/usr/bin/mscore \"data/midis/b1_t2_m1_r1_s0_r5.mid\" -o \"data/midis_wavs/b1_t2_m1_r1_s0_r5.flac\"\n"
     ]
    },
    {
     "name": "stderr",
     "output_type": "stream",
     "text": [
      "initScoreFonts 0x557ed21ef050\n",
      "convert <data/midis/b1_t2_m1_r1_s0_r5.mid> to <data/midis_wavs/b1_t2_m1_r1_s0_r5.flac>\n",
      "-extra note off at 7480\n",
      "-extra note off at 7920\n"
     ]
    },
    {
     "name": "stdout",
     "output_type": "stream",
     "text": [
      "/usr/bin/mscore \"data/midis/b0_t9_m1_r1_s0_r4.mid\" -o \"data/midis_wavs/b0_t9_m1_r1_s0_r4.flac\"\n"
     ]
    },
    {
     "name": "stderr",
     "output_type": "stream",
     "text": [
      "initScoreFonts 0x564762d13a20\n",
      "convert <data/midis/b0_t9_m1_r1_s0_r4.mid> to <data/midis_wavs/b0_t9_m1_r1_s0_r4.flac>\n",
      "-extra note off at 3960\n",
      "-extra note off at 4400\n"
     ]
    },
    {
     "name": "stdout",
     "output_type": "stream",
     "text": [
      "/usr/bin/mscore \"data/midis/b2_t0_m0_r0_s1_r8.mid\" -o \"data/midis_wavs/b2_t0_m0_r0_s1_r8.flac\"\n"
     ]
    },
    {
     "name": "stderr",
     "output_type": "stream",
     "text": [
      "initScoreFonts 0x55db444c97e0\n",
      "convert <data/midis/b2_t0_m0_r0_s1_r8.mid> to <data/midis_wavs/b2_t0_m0_r0_s1_r8.flac>\n",
      "-extra note off at 14520\n",
      "-extra note off at 14960\n"
     ]
    },
    {
     "name": "stdout",
     "output_type": "stream",
     "text": [
      "/usr/bin/mscore \"data/midis/b0_t9_m1_r2_s2_r7.mid\" -o \"data/midis_wavs/b0_t9_m1_r2_s2_r7.flac\"\n"
     ]
    },
    {
     "name": "stderr",
     "output_type": "stream",
     "text": [
      "initScoreFonts 0x55f9b4065100\n",
      "convert <data/midis/b0_t9_m1_r2_s2_r7.mid> to <data/midis_wavs/b0_t9_m1_r2_s2_r7.flac>\n",
      "-extra note off at 3960\n",
      "-extra note off at 4400\n"
     ]
    },
    {
     "name": "stdout",
     "output_type": "stream",
     "text": [
      "/usr/bin/mscore \"data/midis/b2_t7_m2_r2_s2_r1.mid\" -o \"data/midis_wavs/b2_t7_m2_r2_s2_r1.flac\"\n"
     ]
    },
    {
     "name": "stderr",
     "output_type": "stream",
     "text": [
      "initScoreFonts 0x559b684f56d0\n",
      "convert <data/midis/b2_t7_m2_r2_s2_r1.mid> to <data/midis_wavs/b2_t7_m2_r2_s2_r1.flac>\n",
      "-extra note off at 14520\n",
      "-extra note off at 14960\n"
     ]
    },
    {
     "name": "stdout",
     "output_type": "stream",
     "text": [
      "/usr/bin/mscore \"data/midis/b1_t4_m3_r2_s0_r4.mid\" -o \"data/midis_wavs/b1_t4_m3_r2_s0_r4.flac\"\n"
     ]
    },
    {
     "name": "stderr",
     "output_type": "stream",
     "text": [
      "initScoreFonts 0x557e764a9e30\n",
      "convert <data/midis/b1_t4_m3_r2_s0_r4.mid> to <data/midis_wavs/b1_t4_m3_r2_s0_r4.flac>\n",
      "-extra note off at 7480\n",
      "-extra note off at 7920\n"
     ]
    },
    {
     "name": "stdout",
     "output_type": "stream",
     "text": [
      "/usr/bin/mscore \"data/midis/b1_t6_m0_r1_s2_r2.mid\" -o \"data/midis_wavs/b1_t6_m0_r1_s2_r2.flac\"\n"
     ]
    },
    {
     "name": "stderr",
     "output_type": "stream",
     "text": [
      "initScoreFonts 0x559b0ddd5bb0\n",
      "convert <data/midis/b1_t6_m0_r1_s2_r2.mid> to <data/midis_wavs/b1_t6_m0_r1_s2_r2.flac>\n",
      "-extra note off at 7480\n",
      "-extra note off at 7920\n"
     ]
    },
    {
     "name": "stdout",
     "output_type": "stream",
     "text": [
      "/usr/bin/mscore \"data/midis/b2_t3_m3_r1_s0_r7.mid\" -o \"data/midis_wavs/b2_t3_m3_r1_s0_r7.flac\"\n"
     ]
    },
    {
     "name": "stderr",
     "output_type": "stream",
     "text": [
      "initScoreFonts 0x56256e181be0\n",
      "convert <data/midis/b2_t3_m3_r1_s0_r7.mid> to <data/midis_wavs/b2_t3_m3_r1_s0_r7.flac>\n",
      "-extra note off at 14520\n",
      "-extra note off at 14960\n"
     ]
    },
    {
     "name": "stdout",
     "output_type": "stream",
     "text": [
      "/usr/bin/mscore \"data/midis/b1_t5_m2_r1_s0_r4.mid\" -o \"data/midis_wavs/b1_t5_m2_r1_s0_r4.flac\"\n"
     ]
    },
    {
     "name": "stderr",
     "output_type": "stream",
     "text": [
      "initScoreFonts 0x562d0f22f430\n",
      "convert <data/midis/b1_t5_m2_r1_s0_r4.mid> to <data/midis_wavs/b1_t5_m2_r1_s0_r4.flac>\n",
      "-extra note off at 7480\n",
      "-extra note off at 7920\n"
     ]
    },
    {
     "name": "stdout",
     "output_type": "stream",
     "text": [
      "/usr/bin/mscore \"data/midis/b0_t0_m3_r1_s0_r1.mid\" -o \"data/midis_wavs/b0_t0_m3_r1_s0_r1.flac\"\n"
     ]
    },
    {
     "name": "stderr",
     "output_type": "stream",
     "text": [
      "initScoreFonts 0x561152a53d10\n",
      "convert <data/midis/b0_t0_m3_r1_s0_r1.mid> to <data/midis_wavs/b0_t0_m3_r1_s0_r1.flac>\n",
      "-extra note off at 3960\n",
      "-extra note off at 4400\n"
     ]
    },
    {
     "name": "stdout",
     "output_type": "stream",
     "text": [
      "/usr/bin/mscore \"data/midis/b0_t9_m3_r2_s0_r5.mid\" -o \"data/midis_wavs/b0_t9_m3_r2_s0_r5.flac\"\n"
     ]
    },
    {
     "name": "stderr",
     "output_type": "stream",
     "text": [
      "initScoreFonts 0x561ee380a0e0\n",
      "convert <data/midis/b0_t9_m3_r2_s0_r5.mid> to <data/midis_wavs/b0_t9_m3_r2_s0_r5.flac>\n",
      "-extra note off at 3960\n",
      "-extra note off at 4400\n"
     ]
    },
    {
     "name": "stdout",
     "output_type": "stream",
     "text": [
      "/usr/bin/mscore \"data/midis/b1_t5_m3_r1_s2_r6.mid\" -o \"data/midis_wavs/b1_t5_m3_r1_s2_r6.flac\"\n"
     ]
    },
    {
     "name": "stderr",
     "output_type": "stream",
     "text": [
      "initScoreFonts 0x55653772b230\n",
      "convert <data/midis/b1_t5_m3_r1_s2_r6.mid> to <data/midis_wavs/b1_t5_m3_r1_s2_r6.flac>\n",
      "-extra note off at 7480\n",
      "-extra note off at 7920\n"
     ]
    },
    {
     "name": "stdout",
     "output_type": "stream",
     "text": [
      "/usr/bin/mscore \"data/midis/b2_t2_m2_r2_s0_r3.mid\" -o \"data/midis_wavs/b2_t2_m2_r2_s0_r3.flac\"\n"
     ]
    },
    {
     "name": "stderr",
     "output_type": "stream",
     "text": [
      "initScoreFonts 0x55d5f2486880\n",
      "convert <data/midis/b2_t2_m2_r2_s0_r3.mid> to <data/midis_wavs/b2_t2_m2_r2_s0_r3.flac>\n",
      "-extra note off at 14520\n",
      "-extra note off at 14960\n"
     ]
    },
    {
     "name": "stdout",
     "output_type": "stream",
     "text": [
      "/usr/bin/mscore \"data/midis/b1_t2_m2_r1_s1_r1.mid\" -o \"data/midis_wavs/b1_t2_m2_r1_s1_r1.flac\"\n"
     ]
    },
    {
     "name": "stderr",
     "output_type": "stream",
     "text": [
      "initScoreFonts 0x55e1e21dfe80\n",
      "convert <data/midis/b1_t2_m2_r1_s1_r1.mid> to <data/midis_wavs/b1_t2_m2_r1_s1_r1.flac>\n",
      "-extra note off at 7480\n",
      "-extra note off at 7920\n"
     ]
    },
    {
     "name": "stdout",
     "output_type": "stream",
     "text": [
      "/usr/bin/mscore \"data/midis/b1_t9_m2_r0_s2_r6.mid\" -o \"data/midis_wavs/b1_t9_m2_r0_s2_r6.flac\"\n"
     ]
    },
    {
     "name": "stderr",
     "output_type": "stream",
     "text": [
      "initScoreFonts 0x55b9dc542230\n"
     ]
    },
    {
     "ename": "KeyboardInterrupt",
     "evalue": "",
     "output_type": "error",
     "traceback": [
      "\u001b[0;31m---------------------------------------------------------------------------\u001b[0m",
      "\u001b[0;31mKeyboardInterrupt\u001b[0m                         Traceback (most recent call last)",
      "Cell \u001b[0;32mIn[16], line 10\u001b[0m\n\u001b[1;32m      8\u001b[0m wav \u001b[38;5;241m=\u001b[39m \u001b[38;5;124m'\u001b[39m\u001b[38;5;124mdata/midis_wavs/\u001b[39m\u001b[38;5;124m'\u001b[39m \u001b[38;5;241m+\u001b[39m file\u001b[38;5;241m.\u001b[39mreplace(\u001b[38;5;124m'\u001b[39m\u001b[38;5;124mmid\u001b[39m\u001b[38;5;124m'\u001b[39m, \u001b[38;5;124m'\u001b[39m\u001b[38;5;124mflac\u001b[39m\u001b[38;5;124m'\u001b[39m)\n\u001b[1;32m      9\u001b[0m \u001b[38;5;28mprint\u001b[39m(\u001b[38;5;124mf\u001b[39m\u001b[38;5;124m'\u001b[39m\u001b[38;5;132;01m{\u001b[39;00mconverter_script\u001b[38;5;132;01m}\u001b[39;00m\u001b[38;5;124m \u001b[39m\u001b[38;5;124m\"\u001b[39m\u001b[38;5;132;01m{\u001b[39;00mmidi\u001b[38;5;132;01m}\u001b[39;00m\u001b[38;5;124m\"\u001b[39m\u001b[38;5;124m -o \u001b[39m\u001b[38;5;124m\"\u001b[39m\u001b[38;5;132;01m{\u001b[39;00mwav\u001b[38;5;132;01m}\u001b[39;00m\u001b[38;5;124m\"\u001b[39m\u001b[38;5;124m'\u001b[39m)\n\u001b[0;32m---> 10\u001b[0m \u001b[43msubprocess\u001b[49m\u001b[38;5;241;43m.\u001b[39;49m\u001b[43mPopen\u001b[49m\u001b[43m(\u001b[49m\u001b[38;5;124;43mf\u001b[39;49m\u001b[38;5;124;43m'\u001b[39;49m\u001b[38;5;124;43mexport QT_QPA_PLATFORM=offscreen; \u001b[39;49m\u001b[38;5;132;43;01m{\u001b[39;49;00m\u001b[43mconverter_script\u001b[49m\u001b[38;5;132;43;01m}\u001b[39;49;00m\u001b[38;5;124;43m \u001b[39;49m\u001b[38;5;124;43m\"\u001b[39;49m\u001b[38;5;132;43;01m{\u001b[39;49;00m\u001b[43mmidi\u001b[49m\u001b[38;5;132;43;01m}\u001b[39;49;00m\u001b[38;5;124;43m\"\u001b[39;49m\u001b[38;5;124;43m -o \u001b[39;49m\u001b[38;5;124;43m\"\u001b[39;49m\u001b[38;5;132;43;01m{\u001b[39;49;00m\u001b[43mwav\u001b[49m\u001b[38;5;132;43;01m}\u001b[39;49;00m\u001b[38;5;124;43m\"\u001b[39;49m\u001b[38;5;124;43m'\u001b[39;49m\u001b[43m,\u001b[49m\u001b[43m \u001b[49m\u001b[43mshell\u001b[49m\u001b[38;5;241;43m=\u001b[39;49m\u001b[38;5;28;43;01mTrue\u001b[39;49;00m\u001b[43m)\u001b[49m\u001b[38;5;241;43m.\u001b[39;49m\u001b[43mwait\u001b[49m\u001b[43m(\u001b[49m\u001b[43m)\u001b[49m\n",
      "File \u001b[0;32m~/anaconda3/envs/torchaudio/lib/python3.12/subprocess.py:1264\u001b[0m, in \u001b[0;36mPopen.wait\u001b[0;34m(self, timeout)\u001b[0m\n\u001b[1;32m   1262\u001b[0m     endtime \u001b[38;5;241m=\u001b[39m _time() \u001b[38;5;241m+\u001b[39m timeout\n\u001b[1;32m   1263\u001b[0m \u001b[38;5;28;01mtry\u001b[39;00m:\n\u001b[0;32m-> 1264\u001b[0m     \u001b[38;5;28;01mreturn\u001b[39;00m \u001b[38;5;28;43mself\u001b[39;49m\u001b[38;5;241;43m.\u001b[39;49m\u001b[43m_wait\u001b[49m\u001b[43m(\u001b[49m\u001b[43mtimeout\u001b[49m\u001b[38;5;241;43m=\u001b[39;49m\u001b[43mtimeout\u001b[49m\u001b[43m)\u001b[49m\n\u001b[1;32m   1265\u001b[0m \u001b[38;5;28;01mexcept\u001b[39;00m \u001b[38;5;167;01mKeyboardInterrupt\u001b[39;00m:\n\u001b[1;32m   1266\u001b[0m     \u001b[38;5;66;03m# https://bugs.python.org/issue25942\u001b[39;00m\n\u001b[1;32m   1267\u001b[0m     \u001b[38;5;66;03m# The first keyboard interrupt waits briefly for the child to\u001b[39;00m\n\u001b[1;32m   1268\u001b[0m     \u001b[38;5;66;03m# exit under the common assumption that it also received the ^C\u001b[39;00m\n\u001b[1;32m   1269\u001b[0m     \u001b[38;5;66;03m# generated SIGINT and will exit rapidly.\u001b[39;00m\n\u001b[1;32m   1270\u001b[0m     \u001b[38;5;28;01mif\u001b[39;00m timeout \u001b[38;5;129;01mis\u001b[39;00m \u001b[38;5;129;01mnot\u001b[39;00m \u001b[38;5;28;01mNone\u001b[39;00m:\n",
      "File \u001b[0;32m~/anaconda3/envs/torchaudio/lib/python3.12/subprocess.py:2051\u001b[0m, in \u001b[0;36mPopen._wait\u001b[0;34m(self, timeout)\u001b[0m\n\u001b[1;32m   2049\u001b[0m \u001b[38;5;28;01mif\u001b[39;00m \u001b[38;5;28mself\u001b[39m\u001b[38;5;241m.\u001b[39mreturncode \u001b[38;5;129;01mis\u001b[39;00m \u001b[38;5;129;01mnot\u001b[39;00m \u001b[38;5;28;01mNone\u001b[39;00m:\n\u001b[1;32m   2050\u001b[0m     \u001b[38;5;28;01mbreak\u001b[39;00m  \u001b[38;5;66;03m# Another thread waited.\u001b[39;00m\n\u001b[0;32m-> 2051\u001b[0m (pid, sts) \u001b[38;5;241m=\u001b[39m \u001b[38;5;28;43mself\u001b[39;49m\u001b[38;5;241;43m.\u001b[39;49m\u001b[43m_try_wait\u001b[49m\u001b[43m(\u001b[49m\u001b[38;5;241;43m0\u001b[39;49m\u001b[43m)\u001b[49m\n\u001b[1;32m   2052\u001b[0m \u001b[38;5;66;03m# Check the pid and loop as waitpid has been known to\u001b[39;00m\n\u001b[1;32m   2053\u001b[0m \u001b[38;5;66;03m# return 0 even without WNOHANG in odd situations.\u001b[39;00m\n\u001b[1;32m   2054\u001b[0m \u001b[38;5;66;03m# http://bugs.python.org/issue14396.\u001b[39;00m\n\u001b[1;32m   2055\u001b[0m \u001b[38;5;28;01mif\u001b[39;00m pid \u001b[38;5;241m==\u001b[39m \u001b[38;5;28mself\u001b[39m\u001b[38;5;241m.\u001b[39mpid:\n",
      "File \u001b[0;32m~/anaconda3/envs/torchaudio/lib/python3.12/subprocess.py:2009\u001b[0m, in \u001b[0;36mPopen._try_wait\u001b[0;34m(self, wait_flags)\u001b[0m\n\u001b[1;32m   2007\u001b[0m \u001b[38;5;250m\u001b[39m\u001b[38;5;124;03m\"\"\"All callers to this function MUST hold self._waitpid_lock.\"\"\"\u001b[39;00m\n\u001b[1;32m   2008\u001b[0m \u001b[38;5;28;01mtry\u001b[39;00m:\n\u001b[0;32m-> 2009\u001b[0m     (pid, sts) \u001b[38;5;241m=\u001b[39m \u001b[43mos\u001b[49m\u001b[38;5;241;43m.\u001b[39;49m\u001b[43mwaitpid\u001b[49m\u001b[43m(\u001b[49m\u001b[38;5;28;43mself\u001b[39;49m\u001b[38;5;241;43m.\u001b[39;49m\u001b[43mpid\u001b[49m\u001b[43m,\u001b[49m\u001b[43m \u001b[49m\u001b[43mwait_flags\u001b[49m\u001b[43m)\u001b[49m\n\u001b[1;32m   2010\u001b[0m \u001b[38;5;28;01mexcept\u001b[39;00m \u001b[38;5;167;01mChildProcessError\u001b[39;00m:\n\u001b[1;32m   2011\u001b[0m     \u001b[38;5;66;03m# This happens if SIGCLD is set to be ignored or waiting\u001b[39;00m\n\u001b[1;32m   2012\u001b[0m     \u001b[38;5;66;03m# for child processes has otherwise been disabled for our\u001b[39;00m\n\u001b[1;32m   2013\u001b[0m     \u001b[38;5;66;03m# process.  This child is dead, we can't get the status.\u001b[39;00m\n\u001b[1;32m   2014\u001b[0m     pid \u001b[38;5;241m=\u001b[39m \u001b[38;5;28mself\u001b[39m\u001b[38;5;241m.\u001b[39mpid\n",
      "\u001b[0;31mKeyboardInterrupt\u001b[0m: "
     ]
    },
    {
     "name": "stderr",
     "output_type": "stream",
     "text": [
      "convert <data/midis/b1_t9_m2_r0_s2_r6.mid> to <data/midis_wavs/b1_t9_m2_r0_s2_r6.flac>\n",
      "-extra note off at 7480\n",
      "-extra note off at 7920\n"
     ]
    }
   ],
   "source": [
    "import subprocess\n",
    "\n",
    "os.makedirs('data/midis_wavs', exist_ok=True)\n",
    "\n",
    "for file in os.listdir('data/midis'):\n",
    "    if 'mid' in file:\n",
    "        midi = 'data/midis/' + file\n",
    "        wav = 'data/midis_wavs/' + file.replace('mid', 'flac')\n",
    "        print(f'{converter_script} \"{midi}\" -o \"{wav}\"')\n",
    "        subprocess.Popen(f'export QT_QPA_PLATFORM=offscreen; {converter_script} \"{midi}\" -o \"{wav}\"', shell=True).wait()"
   ]
  },
  {
   "cell_type": "code",
   "execution_count": 3,
   "id": "62743a00-db43-4aec-b6d5-ba15268ae563",
   "metadata": {},
   "outputs": [
    {
     "name": "stderr",
     "output_type": "stream",
     "text": [
      "Some weights of the model checkpoint at ntu-spml/distilhubert were not used when initializing HubertModel: ['encoder.pos_conv_embed.conv.weight_g', 'encoder.pos_conv_embed.conv.weight_v']\n",
      "- This IS expected if you are initializing HubertModel from the checkpoint of a model trained on another task or with another architecture (e.g. initializing a BertForSequenceClassification model from a BertForPreTraining model).\n",
      "- This IS NOT expected if you are initializing HubertModel from the checkpoint of a model that you expect to be exactly identical (initializing a BertForSequenceClassification model from a BertForSequenceClassification model).\n",
      "Some weights of HubertModel were not initialized from the model checkpoint at ntu-spml/distilhubert and are newly initialized: ['encoder.pos_conv_embed.conv.parametrizations.weight.original0', 'encoder.pos_conv_embed.conv.parametrizations.weight.original1']\n",
      "You should probably TRAIN this model on a down-stream task to be able to use it for predictions and inference.\n"
     ]
    }
   ],
   "source": [
    "from transformers import AutoFeatureExtractor, AutoModel\n",
    "import torch\n",
    "\n",
    "model_id = 'ntu-spml/distilhubert'\n",
    "feature_extractor = AutoFeatureExtractor.from_pretrained(\n",
    "    model_id, do_normalize=True, return_attention_mask=True\n",
    ")\n",
    "\n",
    "sampling_rate = feature_extractor.sampling_rate\n",
    "model = AutoModel.from_pretrained(model_id)"
   ]
  },
  {
   "cell_type": "code",
   "execution_count": 4,
   "id": "7654f86e-dc2d-493f-935a-6be6715f33c7",
   "metadata": {},
   "outputs": [
    {
     "ename": "EmptyDatasetError",
     "evalue": "The directory at /media/datadisk/repos/algorithmicMidiTextData/C:\\Users\\konin\\PHd\\distilhubert encoder (13000 midis)\\midis doesn't contain any data files",
     "output_type": "error",
     "traceback": [
      "\u001b[0;31m---------------------------------------------------------------------------\u001b[0m",
      "\u001b[0;31mEmptyDatasetError\u001b[0m                         Traceback (most recent call last)",
      "Cell \u001b[0;32mIn[4], line 4\u001b[0m\n\u001b[1;32m      1\u001b[0m \u001b[38;5;28;01mfrom\u001b[39;00m \u001b[38;5;21;01mdatasets\u001b[39;00m \u001b[38;5;28;01mimport\u001b[39;00m load_dataset, Audio\n\u001b[1;32m      3\u001b[0m path \u001b[38;5;241m=\u001b[39m \u001b[38;5;124m'\u001b[39m\u001b[38;5;124mC:\u001b[39m\u001b[38;5;130;01m\\\\\u001b[39;00m\u001b[38;5;124mUsers\u001b[39m\u001b[38;5;130;01m\\\\\u001b[39;00m\u001b[38;5;124mkonin\u001b[39m\u001b[38;5;130;01m\\\\\u001b[39;00m\u001b[38;5;124mPHd\u001b[39m\u001b[38;5;130;01m\\\\\u001b[39;00m\u001b[38;5;124mdistilhubert encoder (13000 midis)\u001b[39m\u001b[38;5;130;01m\\\\\u001b[39;00m\u001b[38;5;124mmidis\u001b[39m\u001b[38;5;124m'\u001b[39m\n\u001b[0;32m----> 4\u001b[0m dataset \u001b[38;5;241m=\u001b[39m \u001b[43mload_dataset\u001b[49m\u001b[43m(\u001b[49m\u001b[38;5;124;43m'\u001b[39;49m\u001b[38;5;124;43maudiofolder\u001b[39;49m\u001b[38;5;124;43m'\u001b[39;49m\u001b[43m,\u001b[49m\u001b[43m \u001b[49m\u001b[43mdata_dir\u001b[49m\u001b[38;5;241;43m=\u001b[39;49m\u001b[43mpath\u001b[49m\u001b[43m)\u001b[49m\n\u001b[1;32m      6\u001b[0m \u001b[38;5;66;03m# resample audio files to desired sample rate\u001b[39;00m\n\u001b[1;32m      7\u001b[0m dataset \u001b[38;5;241m=\u001b[39m dataset\u001b[38;5;241m.\u001b[39mcast_column(\u001b[38;5;124m'\u001b[39m\u001b[38;5;124maudio\u001b[39m\u001b[38;5;124m'\u001b[39m, Audio(sampling_rate\u001b[38;5;241m=\u001b[39msampling_rate))\n",
      "File \u001b[0;32m~/anaconda3/envs/torchaudio/lib/python3.12/site-packages/datasets/load.py:2556\u001b[0m, in \u001b[0;36mload_dataset\u001b[0;34m(path, name, data_dir, data_files, split, cache_dir, features, download_config, download_mode, verification_mode, ignore_verifications, keep_in_memory, save_infos, revision, token, use_auth_token, task, streaming, num_proc, storage_options, trust_remote_code, **config_kwargs)\u001b[0m\n\u001b[1;32m   2551\u001b[0m verification_mode \u001b[38;5;241m=\u001b[39m VerificationMode(\n\u001b[1;32m   2552\u001b[0m     (verification_mode \u001b[38;5;129;01mor\u001b[39;00m VerificationMode\u001b[38;5;241m.\u001b[39mBASIC_CHECKS) \u001b[38;5;28;01mif\u001b[39;00m \u001b[38;5;129;01mnot\u001b[39;00m save_infos \u001b[38;5;28;01melse\u001b[39;00m VerificationMode\u001b[38;5;241m.\u001b[39mALL_CHECKS\n\u001b[1;32m   2553\u001b[0m )\n\u001b[1;32m   2555\u001b[0m \u001b[38;5;66;03m# Create a dataset builder\u001b[39;00m\n\u001b[0;32m-> 2556\u001b[0m builder_instance \u001b[38;5;241m=\u001b[39m \u001b[43mload_dataset_builder\u001b[49m\u001b[43m(\u001b[49m\n\u001b[1;32m   2557\u001b[0m \u001b[43m    \u001b[49m\u001b[43mpath\u001b[49m\u001b[38;5;241;43m=\u001b[39;49m\u001b[43mpath\u001b[49m\u001b[43m,\u001b[49m\n\u001b[1;32m   2558\u001b[0m \u001b[43m    \u001b[49m\u001b[43mname\u001b[49m\u001b[38;5;241;43m=\u001b[39;49m\u001b[43mname\u001b[49m\u001b[43m,\u001b[49m\n\u001b[1;32m   2559\u001b[0m \u001b[43m    \u001b[49m\u001b[43mdata_dir\u001b[49m\u001b[38;5;241;43m=\u001b[39;49m\u001b[43mdata_dir\u001b[49m\u001b[43m,\u001b[49m\n\u001b[1;32m   2560\u001b[0m \u001b[43m    \u001b[49m\u001b[43mdata_files\u001b[49m\u001b[38;5;241;43m=\u001b[39;49m\u001b[43mdata_files\u001b[49m\u001b[43m,\u001b[49m\n\u001b[1;32m   2561\u001b[0m \u001b[43m    \u001b[49m\u001b[43mcache_dir\u001b[49m\u001b[38;5;241;43m=\u001b[39;49m\u001b[43mcache_dir\u001b[49m\u001b[43m,\u001b[49m\n\u001b[1;32m   2562\u001b[0m \u001b[43m    \u001b[49m\u001b[43mfeatures\u001b[49m\u001b[38;5;241;43m=\u001b[39;49m\u001b[43mfeatures\u001b[49m\u001b[43m,\u001b[49m\n\u001b[1;32m   2563\u001b[0m \u001b[43m    \u001b[49m\u001b[43mdownload_config\u001b[49m\u001b[38;5;241;43m=\u001b[39;49m\u001b[43mdownload_config\u001b[49m\u001b[43m,\u001b[49m\n\u001b[1;32m   2564\u001b[0m \u001b[43m    \u001b[49m\u001b[43mdownload_mode\u001b[49m\u001b[38;5;241;43m=\u001b[39;49m\u001b[43mdownload_mode\u001b[49m\u001b[43m,\u001b[49m\n\u001b[1;32m   2565\u001b[0m \u001b[43m    \u001b[49m\u001b[43mrevision\u001b[49m\u001b[38;5;241;43m=\u001b[39;49m\u001b[43mrevision\u001b[49m\u001b[43m,\u001b[49m\n\u001b[1;32m   2566\u001b[0m \u001b[43m    \u001b[49m\u001b[43mtoken\u001b[49m\u001b[38;5;241;43m=\u001b[39;49m\u001b[43mtoken\u001b[49m\u001b[43m,\u001b[49m\n\u001b[1;32m   2567\u001b[0m \u001b[43m    \u001b[49m\u001b[43mstorage_options\u001b[49m\u001b[38;5;241;43m=\u001b[39;49m\u001b[43mstorage_options\u001b[49m\u001b[43m,\u001b[49m\n\u001b[1;32m   2568\u001b[0m \u001b[43m    \u001b[49m\u001b[43mtrust_remote_code\u001b[49m\u001b[38;5;241;43m=\u001b[39;49m\u001b[43mtrust_remote_code\u001b[49m\u001b[43m,\u001b[49m\n\u001b[1;32m   2569\u001b[0m \u001b[43m    \u001b[49m\u001b[43m_require_default_config_name\u001b[49m\u001b[38;5;241;43m=\u001b[39;49m\u001b[43mname\u001b[49m\u001b[43m \u001b[49m\u001b[38;5;129;43;01mis\u001b[39;49;00m\u001b[43m \u001b[49m\u001b[38;5;28;43;01mNone\u001b[39;49;00m\u001b[43m,\u001b[49m\n\u001b[1;32m   2570\u001b[0m \u001b[43m    \u001b[49m\u001b[38;5;241;43m*\u001b[39;49m\u001b[38;5;241;43m*\u001b[39;49m\u001b[43mconfig_kwargs\u001b[49m\u001b[43m,\u001b[49m\n\u001b[1;32m   2571\u001b[0m \u001b[43m\u001b[49m\u001b[43m)\u001b[49m\n\u001b[1;32m   2573\u001b[0m \u001b[38;5;66;03m# Return iterable dataset in case of streaming\u001b[39;00m\n\u001b[1;32m   2574\u001b[0m \u001b[38;5;28;01mif\u001b[39;00m streaming:\n",
      "File \u001b[0;32m~/anaconda3/envs/torchaudio/lib/python3.12/site-packages/datasets/load.py:2228\u001b[0m, in \u001b[0;36mload_dataset_builder\u001b[0;34m(path, name, data_dir, data_files, cache_dir, features, download_config, download_mode, revision, token, use_auth_token, storage_options, trust_remote_code, _require_default_config_name, **config_kwargs)\u001b[0m\n\u001b[1;32m   2226\u001b[0m     download_config \u001b[38;5;241m=\u001b[39m download_config\u001b[38;5;241m.\u001b[39mcopy() \u001b[38;5;28;01mif\u001b[39;00m download_config \u001b[38;5;28;01melse\u001b[39;00m DownloadConfig()\n\u001b[1;32m   2227\u001b[0m     download_config\u001b[38;5;241m.\u001b[39mstorage_options\u001b[38;5;241m.\u001b[39mupdate(storage_options)\n\u001b[0;32m-> 2228\u001b[0m dataset_module \u001b[38;5;241m=\u001b[39m \u001b[43mdataset_module_factory\u001b[49m\u001b[43m(\u001b[49m\n\u001b[1;32m   2229\u001b[0m \u001b[43m    \u001b[49m\u001b[43mpath\u001b[49m\u001b[43m,\u001b[49m\n\u001b[1;32m   2230\u001b[0m \u001b[43m    \u001b[49m\u001b[43mrevision\u001b[49m\u001b[38;5;241;43m=\u001b[39;49m\u001b[43mrevision\u001b[49m\u001b[43m,\u001b[49m\n\u001b[1;32m   2231\u001b[0m \u001b[43m    \u001b[49m\u001b[43mdownload_config\u001b[49m\u001b[38;5;241;43m=\u001b[39;49m\u001b[43mdownload_config\u001b[49m\u001b[43m,\u001b[49m\n\u001b[1;32m   2232\u001b[0m \u001b[43m    \u001b[49m\u001b[43mdownload_mode\u001b[49m\u001b[38;5;241;43m=\u001b[39;49m\u001b[43mdownload_mode\u001b[49m\u001b[43m,\u001b[49m\n\u001b[1;32m   2233\u001b[0m \u001b[43m    \u001b[49m\u001b[43mdata_dir\u001b[49m\u001b[38;5;241;43m=\u001b[39;49m\u001b[43mdata_dir\u001b[49m\u001b[43m,\u001b[49m\n\u001b[1;32m   2234\u001b[0m \u001b[43m    \u001b[49m\u001b[43mdata_files\u001b[49m\u001b[38;5;241;43m=\u001b[39;49m\u001b[43mdata_files\u001b[49m\u001b[43m,\u001b[49m\n\u001b[1;32m   2235\u001b[0m \u001b[43m    \u001b[49m\u001b[43mcache_dir\u001b[49m\u001b[38;5;241;43m=\u001b[39;49m\u001b[43mcache_dir\u001b[49m\u001b[43m,\u001b[49m\n\u001b[1;32m   2236\u001b[0m \u001b[43m    \u001b[49m\u001b[43mtrust_remote_code\u001b[49m\u001b[38;5;241;43m=\u001b[39;49m\u001b[43mtrust_remote_code\u001b[49m\u001b[43m,\u001b[49m\n\u001b[1;32m   2237\u001b[0m \u001b[43m    \u001b[49m\u001b[43m_require_default_config_name\u001b[49m\u001b[38;5;241;43m=\u001b[39;49m\u001b[43m_require_default_config_name\u001b[49m\u001b[43m,\u001b[49m\n\u001b[1;32m   2238\u001b[0m \u001b[43m    \u001b[49m\u001b[43m_require_custom_configs\u001b[49m\u001b[38;5;241;43m=\u001b[39;49m\u001b[38;5;28;43mbool\u001b[39;49m\u001b[43m(\u001b[49m\u001b[43mconfig_kwargs\u001b[49m\u001b[43m)\u001b[49m\u001b[43m,\u001b[49m\n\u001b[1;32m   2239\u001b[0m \u001b[43m\u001b[49m\u001b[43m)\u001b[49m\n\u001b[1;32m   2240\u001b[0m \u001b[38;5;66;03m# Get dataset builder class from the processing script\u001b[39;00m\n\u001b[1;32m   2241\u001b[0m builder_kwargs \u001b[38;5;241m=\u001b[39m dataset_module\u001b[38;5;241m.\u001b[39mbuilder_kwargs\n",
      "File \u001b[0;32m~/anaconda3/envs/torchaudio/lib/python3.12/site-packages/datasets/load.py:1768\u001b[0m, in \u001b[0;36mdataset_module_factory\u001b[0;34m(path, revision, download_config, download_mode, dynamic_modules_path, data_dir, data_files, cache_dir, trust_remote_code, _require_default_config_name, _require_custom_configs, **download_kwargs)\u001b[0m\n\u001b[1;32m   1745\u001b[0m \u001b[38;5;66;03m# We have several ways to get a dataset builder:\u001b[39;00m\n\u001b[1;32m   1746\u001b[0m \u001b[38;5;66;03m#\u001b[39;00m\n\u001b[1;32m   1747\u001b[0m \u001b[38;5;66;03m# - if path is the name of a packaged dataset module\u001b[39;00m\n\u001b[0;32m   (...)\u001b[0m\n\u001b[1;32m   1759\u001b[0m \n\u001b[1;32m   1760\u001b[0m \u001b[38;5;66;03m# Try packaged\u001b[39;00m\n\u001b[1;32m   1761\u001b[0m \u001b[38;5;28;01mif\u001b[39;00m path \u001b[38;5;129;01min\u001b[39;00m _PACKAGED_DATASETS_MODULES:\n\u001b[1;32m   1762\u001b[0m     \u001b[38;5;28;01mreturn\u001b[39;00m \u001b[43mPackagedDatasetModuleFactory\u001b[49m\u001b[43m(\u001b[49m\n\u001b[1;32m   1763\u001b[0m \u001b[43m        \u001b[49m\u001b[43mpath\u001b[49m\u001b[43m,\u001b[49m\n\u001b[1;32m   1764\u001b[0m \u001b[43m        \u001b[49m\u001b[43mdata_dir\u001b[49m\u001b[38;5;241;43m=\u001b[39;49m\u001b[43mdata_dir\u001b[49m\u001b[43m,\u001b[49m\n\u001b[1;32m   1765\u001b[0m \u001b[43m        \u001b[49m\u001b[43mdata_files\u001b[49m\u001b[38;5;241;43m=\u001b[39;49m\u001b[43mdata_files\u001b[49m\u001b[43m,\u001b[49m\n\u001b[1;32m   1766\u001b[0m \u001b[43m        \u001b[49m\u001b[43mdownload_config\u001b[49m\u001b[38;5;241;43m=\u001b[39;49m\u001b[43mdownload_config\u001b[49m\u001b[43m,\u001b[49m\n\u001b[1;32m   1767\u001b[0m \u001b[43m        \u001b[49m\u001b[43mdownload_mode\u001b[49m\u001b[38;5;241;43m=\u001b[39;49m\u001b[43mdownload_mode\u001b[49m\u001b[43m,\u001b[49m\n\u001b[0;32m-> 1768\u001b[0m \u001b[43m    \u001b[49m\u001b[43m)\u001b[49m\u001b[38;5;241;43m.\u001b[39;49m\u001b[43mget_module\u001b[49m\u001b[43m(\u001b[49m\u001b[43m)\u001b[49m\n\u001b[1;32m   1769\u001b[0m \u001b[38;5;66;03m# Try locally\u001b[39;00m\n\u001b[1;32m   1770\u001b[0m \u001b[38;5;28;01melif\u001b[39;00m path\u001b[38;5;241m.\u001b[39mendswith(filename):\n",
      "File \u001b[0;32m~/anaconda3/envs/torchaudio/lib/python3.12/site-packages/datasets/load.py:1133\u001b[0m, in \u001b[0;36mPackagedDatasetModuleFactory.get_module\u001b[0;34m(self)\u001b[0m\n\u001b[1;32m   1131\u001b[0m \u001b[38;5;28;01mdef\u001b[39;00m \u001b[38;5;21mget_module\u001b[39m(\u001b[38;5;28mself\u001b[39m) \u001b[38;5;241m-\u001b[39m\u001b[38;5;241m>\u001b[39m DatasetModule:\n\u001b[1;32m   1132\u001b[0m     base_path \u001b[38;5;241m=\u001b[39m Path(\u001b[38;5;28mself\u001b[39m\u001b[38;5;241m.\u001b[39mdata_dir \u001b[38;5;129;01mor\u001b[39;00m \u001b[38;5;124m\"\u001b[39m\u001b[38;5;124m\"\u001b[39m)\u001b[38;5;241m.\u001b[39mexpanduser()\u001b[38;5;241m.\u001b[39mresolve()\u001b[38;5;241m.\u001b[39mas_posix()\n\u001b[0;32m-> 1133\u001b[0m     patterns \u001b[38;5;241m=\u001b[39m sanitize_patterns(\u001b[38;5;28mself\u001b[39m\u001b[38;5;241m.\u001b[39mdata_files) \u001b[38;5;28;01mif\u001b[39;00m \u001b[38;5;28mself\u001b[39m\u001b[38;5;241m.\u001b[39mdata_files \u001b[38;5;129;01mis\u001b[39;00m \u001b[38;5;129;01mnot\u001b[39;00m \u001b[38;5;28;01mNone\u001b[39;00m \u001b[38;5;28;01melse\u001b[39;00m \u001b[43mget_data_patterns\u001b[49m\u001b[43m(\u001b[49m\u001b[43mbase_path\u001b[49m\u001b[43m)\u001b[49m\n\u001b[1;32m   1134\u001b[0m     data_files \u001b[38;5;241m=\u001b[39m DataFilesDict\u001b[38;5;241m.\u001b[39mfrom_patterns(\n\u001b[1;32m   1135\u001b[0m         patterns,\n\u001b[1;32m   1136\u001b[0m         download_config\u001b[38;5;241m=\u001b[39m\u001b[38;5;28mself\u001b[39m\u001b[38;5;241m.\u001b[39mdownload_config,\n\u001b[1;32m   1137\u001b[0m         base_path\u001b[38;5;241m=\u001b[39mbase_path,\n\u001b[1;32m   1138\u001b[0m     )\n\u001b[1;32m   1139\u001b[0m     supports_metadata \u001b[38;5;241m=\u001b[39m \u001b[38;5;28mself\u001b[39m\u001b[38;5;241m.\u001b[39mname \u001b[38;5;129;01min\u001b[39;00m _MODULE_SUPPORTS_METADATA\n",
      "File \u001b[0;32m~/anaconda3/envs/torchaudio/lib/python3.12/site-packages/datasets/data_files.py:485\u001b[0m, in \u001b[0;36mget_data_patterns\u001b[0;34m(base_path, download_config)\u001b[0m\n\u001b[1;32m    483\u001b[0m     \u001b[38;5;28;01mreturn\u001b[39;00m _get_data_files_patterns(resolver)\n\u001b[1;32m    484\u001b[0m \u001b[38;5;28;01mexcept\u001b[39;00m \u001b[38;5;167;01mFileNotFoundError\u001b[39;00m:\n\u001b[0;32m--> 485\u001b[0m     \u001b[38;5;28;01mraise\u001b[39;00m EmptyDatasetError(\u001b[38;5;124mf\u001b[39m\u001b[38;5;124m\"\u001b[39m\u001b[38;5;124mThe directory at \u001b[39m\u001b[38;5;132;01m{\u001b[39;00mbase_path\u001b[38;5;132;01m}\u001b[39;00m\u001b[38;5;124m doesn\u001b[39m\u001b[38;5;124m'\u001b[39m\u001b[38;5;124mt contain any data files\u001b[39m\u001b[38;5;124m\"\u001b[39m) \u001b[38;5;28;01mfrom\u001b[39;00m \u001b[38;5;28;01mNone\u001b[39;00m\n",
      "\u001b[0;31mEmptyDatasetError\u001b[0m: The directory at /media/datadisk/repos/algorithmicMidiTextData/C:\\Users\\konin\\PHd\\distilhubert encoder (13000 midis)\\midis doesn't contain any data files"
     ]
    }
   ],
   "source": [
    "from datasets import load_dataset, Audio\n",
    "\n",
    "path = 'C:\\\\Users\\\\konin\\\\PHd\\\\distilhubert encoder (13000 midis)\\\\midis'\n",
    "dataset = load_dataset('audiofolder', data_dir=path)\n",
    "\n",
    "# resample audio files to desired sample rate\n",
    "dataset = dataset.cast_column('audio', Audio(sampling_rate=sampling_rate))"
   ]
  },
  {
   "cell_type": "code",
   "execution_count": null,
   "id": "93c75b25-167c-4ba1-8646-1d6d05df7cc0",
   "metadata": {},
   "outputs": [],
   "source": [
    "def preprocess_function(examples):\n",
    "    audio_arrays = [x[\"array\"] for x in examples[\"audio\"]]\n",
    "    inputs = feature_extractor(\n",
    "        audio_arrays,\n",
    "        sampling_rate=feature_extractor.sampling_rate,\n",
    "        return_attention_mask=True,\n",
    "    )\n",
    "    return inputs\n",
    "\n",
    "dataset_encoded = dataset.map(\n",
    "    preprocess_function,\n",
    "    remove_columns=['audio'],\n",
    "    batched=True,\n",
    "    batch_size=100,\n",
    "    num_proc=1,\n",
    ")\n",
    "\n",
    "dataset_encoded"
   ]
  },
  {
   "cell_type": "code",
   "execution_count": null,
   "id": "e2be3025-0a2e-4a3c-aa73-f849b1d13e4e",
   "metadata": {},
   "outputs": [],
   "source": [
    "import librosa\n",
    "\n",
    "result_dict = {}\n",
    "\n",
    "for i in range(len(os.listdir(\"midis\\\\test\"))):\n",
    "    if i%1000==0:\n",
    "        print(i)\n",
    "    t = torch.FloatTensor(dataset_encoded['test'][i]['input_values'] )\n",
    "    tt = t.view(1, t.shape[0])\n",
    "    \n",
    "    wav = dataset['test'][i]['audio']['path']\n",
    "\n",
    "    h = model(tt).last_hidden_state\n",
    "    h_mean = np.mean(h.squeeze().detach().numpy(), axis = 0)\n",
    "    \n",
    "    result_dict[wav.split('\\\\')[-1]] = h_mean"
   ]
  },
  {
   "cell_type": "code",
   "execution_count": null,
   "id": "806fdb6f-3123-4d49-9481-02aaf489e9c5",
   "metadata": {},
   "outputs": [],
   "source": [
    "import pandas as pd\n",
    "\n",
    "df = pd.DataFrame.from_dict(result_dict, orient='index', dtype=np.float32).reset_index()\n",
    "df.to_csv('13000 midis results.csv', index=False)"
   ]
  },
  {
   "cell_type": "code",
   "execution_count": null,
   "id": "27450c3c-0385-47cb-84fe-1d1aaeae2584",
   "metadata": {},
   "outputs": [],
   "source": [
    "import pandas as pd\n",
    "import numpy as np\n",
    "\n",
    "df_new = pd.read_csv('13000 midis results.csv')\n",
    "df_new.iloc[:, 1:] = df_new.iloc[:, 1:].astype('float32')\n",
    "np_array = df_new.to_numpy()"
   ]
  },
  {
   "cell_type": "code",
   "execution_count": null,
   "id": "92d669a0-86c5-477a-b267-5651cba51ca3",
   "metadata": {},
   "outputs": [
    {
     "data": {
      "text/plain": [
       "(12960, 768)"
      ]
     },
     "execution_count": 7,
     "metadata": {},
     "output_type": "execute_result"
    }
   ],
   "source": [
    "names = np_array[:, 0]\n",
    "features = np_array[:, 1:]"
   ]
  },
  {
   "cell_type": "code",
   "execution_count": null,
   "id": "8c52fd82-9666-4b2d-8412-17f314807380",
   "metadata": {},
   "outputs": [],
   "source": [
    "''' \n",
    "# Some plots\n",
    "\n",
    "import plotly.graph_objects as go\n",
    "import numpy as np\n",
    "\n",
    "# Assuming `h` is your torch tensor\n",
    "h_numpy = h.squeeze().detach().numpy()\n",
    "\n",
    "# Create a time array for y-axis\n",
    "duration = t.shape[0] / sampling_rate\n",
    "time_seconds = np.linspace(0, duration, h_numpy.shape[0])\n",
    "\n",
    "# Create traces for each feature\n",
    "traces = []\n",
    "for i in range(h_numpy.shape[1]):\n",
    "    trace = go.Scatter(x=time_seconds, y=h_numpy[:, i], mode='lines', name=f'Feature {i}')\n",
    "    traces.append(trace)\n",
    "\n",
    "# Create the plot\n",
    "fig = go.Figure(data=traces)\n",
    "\n",
    "# Update layout\n",
    "fig.update_layout(title='Plot of Features Over Time',\n",
    "                  xaxis_title='Time (seconds)',\n",
    "                  yaxis_title='Feature Value')\n",
    "\n",
    "# Show the plot\n",
    "fig.show()\n",
    "\n",
    "'''"
   ]
  },
  {
   "cell_type": "code",
   "execution_count": null,
   "id": "ae0e1bc4-07d7-4f68-a21b-dc33c5269925",
   "metadata": {},
   "outputs": [],
   "source": [
    "'''\n",
    "import numpy as np\n",
    "import matplotlib.pyplot as plt\n",
    "\n",
    "# Assuming `data` is your dataset with shape (num_samples, 768)\n",
    "\n",
    "# Perform FFT\n",
    "fft_result = np.fft.fft(h_numpy, axis=0)\n",
    "frequencies = np.fft.fftfreq(h_numpy.shape[0], 1 / sampling_rate)\n",
    "\n",
    "# Plot the frequency spectrum\n",
    "plt.figure(figsize=(10, 6))\n",
    "plt.plot(frequencies[:h_numpy.shape[0]//2], np.abs(fft_result[:h_numpy.shape[0]//2]))\n",
    "plt.title('Frequency Spectrum')\n",
    "plt.xlabel('Frequency (Hz)')\n",
    "plt.ylabel('Amplitude')\n",
    "plt.grid(True)\n",
    "plt.show()\n",
    "'''"
   ]
  }
 ],
 "metadata": {
  "kernelspec": {
   "display_name": "Python 3 (ipykernel)",
   "language": "python",
   "name": "python3"
  },
  "language_info": {
   "codemirror_mode": {
    "name": "ipython",
    "version": 3
   },
   "file_extension": ".py",
   "mimetype": "text/x-python",
   "name": "python",
   "nbconvert_exporter": "python",
   "pygments_lexer": "ipython3",
   "version": "3.12.2"
  }
 },
 "nbformat": 4,
 "nbformat_minor": 5
}
